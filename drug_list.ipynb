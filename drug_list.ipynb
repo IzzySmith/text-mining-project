{
 "cells": [
  {
   "cell_type": "code",
   "execution_count": 2,
   "metadata": {
    "collapsed": true
   },
   "outputs": [],
   "source": [
    "from bs4 import BeautifulSoup as bs\n",
    "import urllib2"
   ]
  },
  {
   "cell_type": "code",
   "execution_count": 38,
   "metadata": {
    "collapsed": false
   },
   "outputs": [],
   "source": [
    "#parent url\n",
    "wikipedia_url = \"https://en.wikipedia.org/wiki/List_of_psychedelic_drugs\"\n",
    "\n",
    "def read_links(start_page):\n",
    "    \"\"\"\n",
    "    takes a url and returns the links on that page\n",
    "    \"\"\"\n",
    "    tags = []\n",
    "    response = urllib2.urlopen(start_page)\n",
    "    #convert to soup in order to strain out the anchors and the urls\n",
    "    soup = bs(response.read(), \"lxml\")\n",
    "    text = soup.encode(\"utf-8\",'ignore')\n",
    "    psychedelics = soup.find(id=\"Serotonergic_psychedelics_.28serotonin_5-HT2A_receptor_agonists.29\")\n",
    "    drugs = soup.findAll('a')\n",
    "    for ultag in soup.find_all('ul'):\n",
    "        for litag in ultag.find_all('li'):\n",
    "            for atag in litag.find_all('a'):\n",
    "                tags.append(str(atag.text.encode(\"utf-8\", 'ignore')))\n",
    "    return tags\n",
    "\n",
    "    \n",
    "    \n",
    "drug_list = read_links(wikipedia_url)\n",
    "\n",
    "#<span class=\"mw-headline\" id=\"Empathogens.2Fentactogens_.28serotonin_.285-HT.29_releasing_agents.29\"><a href=\"/wiki/Empathogen-entactogen\" title=\"Empathogen-entactogen\">Empathogens/entactogens</a> <i>(<a href=\"/wiki/Serotonin_releasing_agent\" title=\"Serotonin releasing agent\">serotonin (5-HT) releasing agents</a>)</i></span>\n",
    "\n",
    "#print drug_list[:130]\n",
    "\n",
    "list_index = drug_list.index('Tryptamines')\n",
    "endpoint = drug_list.index('MDMA')\n",
    "#print endpoint\n",
    "start_point = drug_list[list_index:]\n",
    "\n",
    "end = drug_list.index('Para-Chloroamphetamine')\n",
    "\n",
    "drug_list_full = start_point[:end]"
   ]
  },
  {
   "cell_type": "code",
   "execution_count": null,
   "metadata": {
    "collapsed": false
   },
   "outputs": [],
   "source": []
  },
  {
   "cell_type": "code",
   "execution_count": null,
   "metadata": {
    "collapsed": true
   },
   "outputs": [],
   "source": []
  },
  {
   "cell_type": "code",
   "execution_count": null,
   "metadata": {
    "collapsed": false
   },
   "outputs": [],
   "source": []
  },
  {
   "cell_type": "code",
   "execution_count": null,
   "metadata": {
    "collapsed": false
   },
   "outputs": [],
   "source": []
  },
  {
   "cell_type": "code",
   "execution_count": null,
   "metadata": {
    "collapsed": true
   },
   "outputs": [],
   "source": []
  }
 ],
 "metadata": {
  "anaconda-cloud": {},
  "kernelspec": {
   "display_name": "Python [Root]",
   "language": "python",
   "name": "Python [Root]"
  },
  "language_info": {
   "codemirror_mode": {
    "name": "ipython",
    "version": 2
   },
   "file_extension": ".py",
   "mimetype": "text/x-python",
   "name": "python",
   "nbconvert_exporter": "python",
   "pygments_lexer": "ipython2",
   "version": "2.7.12"
  }
 },
 "nbformat": 4,
 "nbformat_minor": 0
}
