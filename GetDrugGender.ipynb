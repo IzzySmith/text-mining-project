{
 "cells": [
  {
   "cell_type": "code",
   "execution_count": 24,
   "metadata": {
    "collapsed": true
   },
   "outputs": [],
   "source": [
    "from collections import Counter,defaultdict\n",
    "from bs4 import BeautifulSoup as bs\n",
    "from bs4 import Comment\n",
    "import os\n",
    "import glob\n",
    "import nltk\n",
    "import math\n",
    "import urllib2\n",
    "import time\n",
    "import progressbar\n",
    "from __future__ import division"
   ]
  },
  {
   "cell_type": "code",
   "execution_count": 118,
   "metadata": {
    "collapsed": false
   },
   "outputs": [
    {
     "name": "stdout",
     "output_type": "stream",
     "text": [
      "['10000', '100001', '100008', '10001', '100010', '100011', '100028', '100038', '100045', '100048', '100055', '10006', '100067', '10007', '100070', '100087', '100088', '100090', '100091', '100098', '100099', '100105', '100106', '100109', '100120', '100125', '10013', '100130', '100135', '100143', '100156', '100157', '100158', '100170', '100171', '100177', '100189', '10019', '100200', '100216', '100218', '100221', '100223', '100230', '100235', '100242', '100246', '10025', '100251', '100252', '100255', '100260', '100262', '100269', '100279', '10028', '100294', '10031', '10033', '100333', '10034', '100341', '100343', '100347', '100355', '10037', '100372', '100379', '10038', '100382', '100383', '100384', '100398', '100405', '100408', '10041', '100421', '100424', '100435', '100438', '100443', '100445', '10045', '100451', '100453', '10046', '100471', '100475', '100485', '100488', '100493', '100494', '100496', '10050', '100504', '100507', '10051', '100511', '100512', '100513', '100524', '100525', '100526', '100530', '100532', '10054', '100542', '100547', '100566', '100567', '10057', '100580', '100586', '100588', '100599', '100600', '100612', '10063', '100630', '100632', '100644', '100650', '100654', '100656', '10066', '100663', '100671', '100685', '100688', '100696', '100697', '100701', '100706', '100708', '100710', '100713', '100714', '100740', '100742', '100744', '100746', '100752', '100757', '100765', '10077', '100782', '100783', '10079', '100794', '100818', '10082', '100820', '100823', '10083', '100840', '100851', '100864', '10087', '100873', '100879', '100891', '100894', '100899', '10091', '100913', '100914', '10092', '10093', '100939', '100948', '100952', '10096', '100975', '10098', '10099', '100994', '10100', '101000', '10101', '101013', '101018', '10102', '101025', '101026', '101027', '101032', '10104', '10105', '101056', '101066', '101078', '10108', '101088', '10110', '101100', '101104', '101111', '101120', '101124', '101131', '101143', '101144', '101158', '101170', '101171', '101173', '10118', '101181', '101188', '10121', '101212', '10125', '101254', '101257', '101258', '10127', '101270', '10129', '101319', '101324', '101341', '10135', '101364', '101375', '101376', '101394', '101407', '10141', '101414', '101421', '101423', '10143', '101434', '10145', '101451', '101462', '101469', '101470', '101484', '101485', '101492', '101506', '101510', '101526', '101528', '101529', '10153', '101530', '101538', '101539', '101541', '101557', '101573', '101597', '10160', '101604', '101609', '101611', '101615', '101627', '101628', '101638', '10164', '101645', '101646', '101648', '10165', '101651', '101663', '101690', '101703', '101705', '10171', '101714', '101735', '10175', '101752', '101753', '101767', '101768', '10177', '10178', '101781', '101782', '101793', '101800', '101803', '101804', '10181', '101813', '101814', '101821', '101823', '101832', '101836', '10184', '101851', '101857', '10186', '101867', '101868', '10187', '101876', '101878', '10188', '10189', '101893', '101895', '101900', '101901', '101902', '101907', '101915', '101923', '101929', '10193', '101933', '101947', '101964', '101967', '101970', '101980', '101984', '101986', '101991', '101998', '102008', '10201', '102017', '10202', '10204', '102041', '102072', '102075', '10208', '102083', '102094', '102104', '102106', '102118', '102128', '102129', '102133', '102135', '102145', '10215', '102167', '102169', '102172', '102180', '102188', '102190', '102193', '10221', '102216', '102226', '10223', '102254', '102265', '102268', '102269', '102277', '102282', '102294', '102295', '102313', '10232', '102320', '102354', '102363', '102368', '102369', '102370', '102376', '102377', '102400', '102408', '102434', '102439', '102457', '102478', '10249', '102498', '102508', '102510', '102517', '10252', '102520', '102529', '102538', '10254', '10256', '102566', '10257', '102577', '102578', '10259', '102590', '10260', '102600', '10262', '10263', '102650', '102655', '102656', '102666', '102667', '10268', '102680', '10269', '102696', '102711', '102713', '102742', '102749', '102760', '102799', '102804', '102831', '102835', '102840', '102851', '10286', '102864', '102867', '10287', '102891', '102894', '102905', '102906', '102907', '102908', '102911', '10293', '102947', '102949', '102951', '102958', '102960', '102968', '102975', '102985', '102988', '10299', '103001', '103010', '103012', '103015', '103018', '103020', '103021', '103039', '103040', '103042', '103065', '103068', '103084', '103098', '10311', '10312', '103123', '103135', '10314', '103147', '103159', '103161', '103168', '10318', '103180', '10319', '10320', '103211', '103218', '103228', '10323', '103242', '103250', '103255', '10326', '103265', '103276', '10328', '103280', '103284', '103293', '103296', '103307', '103308', '103310', '10332', '103323', '10333', '103334', '103339', '103352', '103367', '103379', '10339', '103395', '103398']\n",
      "yes\n",
      "[<tr><td width=\"700\">Exp Year: 2001</td><td width=\"90\">ExpID: 10000</td></tr>, <tr><td>Gender: Male</td><td>\\xa0</td></tr>, <tr><td>Age at time of experience: Not Given</td><td>\\xa0</td></tr>, <tr><td>Published: Feb 14, 2004</td><td>Views: 45,709</td></tr>, <tr><td align=\"center\" colspan=\"2\">[ <a href=\"exp.php?ID=10000&amp;format=pdf\" type=\"text/pdf\">View as PDF (for printing)</a> ] [ <a href=\"exp.php?ID=10000&amp;format=latex\">View as LaTeX (for geeks)</a> ]\\n[ <a href=\"#\" onclick=\"expChangeColors(); return false;\">Switch Colors</a> ]\\n</td></tr>]\n"
     ]
    }
   ],
   "source": [
    "path_to_folder = 'C:\\\\Users\\\\Isobel\\\\Documents\\\\auc\\\\textmining\\\\erowid_text'\n",
    "filenames = os.listdir(path_to_folder)\n",
    "\n",
    "test_files = filenames[:500]\n",
    "\n",
    "print test_files\n",
    "\n",
    "open_f = open(path_to_folder + '//' + '10000', 'r')\n",
    "\n",
    "bs_f = bs(open_f.read(), \"lxml\")\n",
    "\n",
    "cheese = bs_f.find(class_=\"footdata\")\n",
    "\n",
    "if cheese:\n",
    "    print \"yes\"\n",
    "\n",
    "rows = cheese.findAll('tr')\n",
    "print rows"
   ]
  },
  {
   "cell_type": "code",
   "execution_count": 119,
   "metadata": {
    "collapsed": false
   },
   "outputs": [
    {
     "name": "stdout",
     "output_type": "stream",
     "text": [
      "{'10299': {\"u'Mushrooms'\": u' Female'}, '10293': {\"u'Cannabis', u'Mushrooms - P. cyanescens'\": u' Male'}, '101767': {'': u' Male'}, '101648': {\"u'LSZ'\": u' Male'}, '10108': {\"u'Cacti - T. peruvianus', u'Cannabis'\": u' Male'}, '10105': {\"u'Cannabis'\": u' Male'}, '10104': {'': u' Not Specified'}, '101646': {\"u'AL-LAD'\": u' Male'}, '100091': {\"u'Kratom'\": u' Male'}, '10101': {\"u'LSD'\": u' Male'}, '10100': {\"u'Wormwood'\": u' Male'}, '10102': {\"u'Kava'\": u' Male'}, '102742': {\"u'Cannabis', u'Methoxetamine '\": u' Male'}, '100200': {\"u'Methoxetamine ', u'25I-NBOMe'\": u' Male'}, '102749': {\"u'Cannabis'\": u' Male'}, '102985': {'': u' Male'}, '103265': {\"u'Cannabis', u'LSD', u'Nitrous Oxide', u'4-HO-DiPT'\": u' Female'}, '102667': {\"u'Coca', u'Cacti - T. pachanoi'\": u' Female'}, '102666': {\"u'Pharms - Gabapentin'\": u' Male'}, '100424': {\"u'Passion Flower'\": u' Male'}, '102988': {\"u'Cannabis', u'NBOMe Series'\": u' Male'}, '100384': {\"u'5-MeO-DMT', u'Psilocin'\": u' Male'}, '100382': {'': u' Female'}, '100383': {\"u'2C-C'\": u' Male'}, '102118': {'': u' Male'}, '10204': {\"u'Alcohol - Beer/Wine', u'2C-I', u'Pharms - Alprazolam'\": u' Male'}, '101492': {\"u'AL-LAD'\": u' Male'}, '10202': {\"u'Salvia divinorum'\": u' Male'}, '10201': {\"u'Salvia divinorum', u'Cannabis'\": u' Male'}, '10208': {\"u'Salvia divinorum'\": u' Male'}, '100067': {'': u' Male'}, '10193': {\"u'Salvia divinorum'\": u' Not Specified'}, '102190': {'': u' Male'}, '100840': {\"u'Cannabis', u'Cannabinoid Receptor Agonists'\": u' Male'}, '100708': {\"u'Morning Glory'\": u' Male'}, '100663': {\"u'25B-NBOMe'\": u' Male'}, '101793': {\"u'Sceletium tortuosum', u'Catha edulis'\": u' Female'}, '100701': {\"u'Etizolam', u'MDA', u'MDAI'\": u' Male'}, '100706': {'': u' Male'}, '102180': {\"u'Pharms - Oxycodone', u'Heroin'\": u' Male'}, '103255': {\"u'Cannabis', u'LSD'\": u' Female'}, '103161': {'': u' Male'}, '101645': {\"u'Pharms - Gabapentin'\": u' Male'}, '100948': {\"u'Pharms - Bupropion', u'4-AcO-DMT', u'Tobacco - Cigarettes'\": u' Male'}, '102840': {\"u'Cannabis', u'LSD'\": u' Female'}, '103040': {\"u'5-MeO-DALT'\": u' Female'}, '103042': {\"u'LSD'\": u' Male'}, '103168': {\"u'Cannabis', u'25C-NBOMe'\": u' Not Specified'}, '102656': {\"u'MDMA'\": u' Male'}, '101421': {\"u'Acacia confusa', u'Banisteriopsis caapi'\": u' Female'}, '101423': {\"u'Diphenhydramine'\": u' Female'}, '101018': {\"u'AL-LAD'\": u' Male'}, '100010': {\"u'Piracetam', u'Pharms - Clonazepam', u'Methylone', u'Pharms - Zolpidem'\": u' Male'}, '100011': {\"u'6-APB'\": u' Female'}, '101768': {\"u'MDA'\": u' Male'}, '101013': {\"u'25B-NBOMe', u'Cannabis', u'Melatonin', u'Tobacco - Cigarettes', u'Alcohol - Beer/Wine'\": u' Male'}, '10332': {\"u'MDMA'\": u' Female'}, '10333': {\"u'DMT'\": u' Male'}, '101947': {\"u'Nitrous Oxide'\": u' Male'}, '102650': {\"u'2C-C'\": u' Male'}, '10339': {\"u'Mushrooms', u'Cannabis'\": u' Male'}, '103293': {\"u'Tryptophan - 5-HTP'\": u' Male'}, '100405': {\"u'Cannabis', u'25I-NBOMe'\": u' Male'}, '103296': {\"u'Alcohol - Hard', u'Cannabis', u'Amphetamines', u'Pharms - Amitriptyline'\": u' Male'}, '100408': {\"u'2C-E'\": u' Male'}, '102529': {\"u'Kratom', u'Calea zacatechichi'\": u' Female'}, '102835': {\"u'Etizolam', u'Methoxetamine ', u'Cannabis', u'2C-T-21'\": u' Male'}, '101800': {\"u'2C-E'\": u' Male'}, '102831': {\"u'25I-NBOMe'\": u' Male'}, '102711': {'': u' Male'}, '10141': {\"u'Ephedrine'\": u' Male'}, '10143': {\"u'LSD'\": u' Male'}, '10145': {\"u'Alcohol - Beer/Wine', u'Kava', u'Caffeine', u'Pharms - Clonazepam'\": u' Male'}, '101933': {\"u'4-Fluoroamphetamine'\": u' Male'}, '10028': {\"u'Methamphetamine'\": u' Male'}, '101735': {\"u'LSZ'\": u' Male'}, '101836': {\"u'4-AcO-DMT', u'Kratom', u'AL-LAD', u'Alcohol'\": u' Male'}, '10025': {\"u'MDMA', u'Alcohol'\": u' Male'}, '101832': {\"u'4-HO-MET', u'DiPT'\": u' Male'}, '100120': {\"u'Tabernanthe iboga'\": u' Male'}, '100125': {\"u'25I-NBOMe'\": u' Male'}, '100242': {\"u'Cannabis', u'Kratom'\": u' Male'}, '103228': {\"u'Smarts - Oxiracetam'\": u' Male'}, '100530': {\"u'25I-NBOMe'\": u' Male'}, '100532': {\"u'Calea zacatechichi'\": u' Male'}, '102017': {\"u'LSZ'\": u' Male'}, '101615': {\"u'LSZ'\": u' Male'}, '10249': {\"u'Mushrooms - P. cubensis'\": u' Male'}, '101611': {\"u'LSD', u'DPT', u'Alcohol', u'MET', u'Cannabis', u'4-Fluoroamphetamine', u'Cocaine'\": u' Male'}, '101597': {\"u'25C-NBOMe'\": u' Male'}, '10093': {\"u'LSD'\": u' Male'}, '10092': {\"u'MDMA'\": u' Male'}, '10091': {\"u'Salvia divinorum'\": u' Male'}, '100333': {\"u'Syrian Rue', u'Mimosa tenuiflora', u'Ginger'\": u' Male'}, '10096': {\"u'Cannabis'\": u' Male'}, '10099': {\"u'Dimenhydrinate'\": u' Male'}, '10098': {\"u'H.B. Woodrose'\": u' Male'}, '101752': {\"u'25C-NBOMe'\": u' Female'}, '101753': {\"u'Methadone'\": u' Male'}, '100580': {\"u'MDMA'\": u' Male'}, '102655': {\"u'Pharms - Oxycodone'\": u' Male'}, '100586': {\"u'Amphetamines'\": u' Male'}, '100588': {\"u'Pharms - Gabapentin'\": u' Male'}, '100235': {\"u'Damiana', u'25C-NBOMe', u'Cacti - T. pachanoi', u'Cannabis', u'Alcohol - Beer/Wine', u'DMT', u'Mescaline'\": u' Male'}, '102713': {\"u'Kratom'\": u' Male'}, '100230': {\"u'Ketamine', u'DPT'\": u' Male'}, '100512': {\"u'Cannabis', u'25I-NBOMe'\": u' Male'}, '101188': {\"u'AL-LAD'\": u' Male'}, '101181': {\"u'Ethylphenidate'\": u' Male'}, '103123': {\"u'Lotus/Lily - Nymphaea nouchali var caerulea'\": u' Male'}, '101506': {\"u'MDPV'\": u' Not Specified'}, '101056': {\"u'Methamphetamine'\": u' Female'}, '100757': {\"u'4-MeO-PCP'\": u' Male'}, '100752': {\"u'Alcohol - Beer/Wine', u'6-APB'\": u' Male'}, '101111': {\"u'Acacia confusa', u'Banisteriopsis caapi'\": u' Male'}, '100055': {\"u'Salvia divinorum'\": u' Male'}, '103015': {\"u'Pharms - Fluoxetine'\": u' Male'}, '103398': {\"u'Etizolam', u'5-MAPB'\": u' Male'}, '103012': {\"u'Ayahuasca', u'Tobacco'\": u' Female'}, '103010': {\"u'Moclobemide'\": u' Male'}, '103395': {\"u'Syrian Rue', u'Ginger', u'Cacti - T. pachanoi'\": u' Male'}, '102975': {\"u'Etizolam', u'4-HO-MiPT'\": u' Male'}, '103018': {'': u' Male'}, '101375': {\"u'Pharms - Methylphenidate'\": u' Male'}, '101376': {\"u'AMT', u'MDAI'\": u' Male'}, '102408': {\"u'25C-NBOMe'\": u' Male'}, '103159': {\"u'Cannabis', u'Coca'\": u' Female'}, '102400': {\"u'Ketamine'\": u' Male'}, '101025': {\"u'LSD', u'AL-LAD'\": u' Male'}, '101573': {\"u'Cannabis', u'AL-LAD'\": u' Male'}, '101470': {\"u'Pharms - Diazepam', u'Ethylphenidate'\": u' Male'}, '10063': {'': u' Male'}, '10066': {\"u'Methamphetamine'\": u' Female'}, '101876': {'': u' Male'}, '101878': {\"u'Anadenanthera peregrina'\": u' Male'}, '101970': {\"u'4-AcO-DMT'\": u' Male'}, '102577': {\"u'Cannabis', u'Pharms - Buprenorphine', u'Alcohol'\": u' Male'}, '103307': {'': u' Male'}, '102908': {\"u'Etizolam'\": u' Male'}, '102906': {\"u'Cannabis', u'4-AcO-DMT'\": u' Female'}, '100471': {'': u' Male'}, '102277': {\"u'Pharms - Bupropion', u'25C-NBOH'\": u' Male'}, '100475': {\"u'25B-NBOMe'\": u' Male'}, '102578': {\"u'Piracetam', u'5-MeO-MIPT'\": u' Female'}, '101986': {\"u'Cannabis', u'Alcohol - Beer/Wine'\": u' Male'}, '101984': {'': u' Male'}, '101967': {\"u'Etizolam'\": u' Male'}, '102478': {\"u'Ethylphenidate'\": u' Male'}, '101980': {\"u'4-Acetoxy-DiPT'\": u' Male'}, '102294': {\"u'2C-E'\": u' Male'}, '102295': {\"u'JWH-250', u'Tobacco - Cigarettes'\": u' Male'}, '10286': {\"u'Hydromorphone'\": u' Male'}, '10287': {\"u'Cannabis', u'Datura'\": u' Male'}, '102354': {\"u'Cannabis', u'AL-LAD'\": u' Male'}, '100782': {\"u'Methoxetamine '\": u' Male'}, '100783': {\"u'Tryptophan', u'AL-LAD'\": u' Male'}, '101804': {'': u' Male'}, '101803': {\"u'25C-NBOH', u'Tobacco'\": u' Male'}, '101714': {\"u'5-MeO-AMT'\": u' Male'}, '101651': {'': u' Male'}, '102145': {\"u'AL-LAD'\": u' Male'}, '10110': {\"u'MDMA'\": u' Female'}, '100379': {\"u'DOC', u'5-MeO-MIPT'\": u' Female'}, '100372': {\"u'25I-NBOMe'\": u' Male'}, '100279': {\"u'5-MeO-DMT'\": u' Male'}, '10262': {\"u'MDMA'\": u' Male'}, '103276': {\"u'Etizolam'\": u' Female'}, '100177': {\"u'Alcohol - Hard', u'DMT', u'25C-NBOMe', u'Methylone'\": u' Male'}, '100171': {\"u'Cannabis', u'5-MeO-MIPT'\": u' Male'}, '100170': {\"u'25I-NBOMe'\": u' Female'}, '103379': {\"u'5-MeO-DMT'\": u' Male'}, '102128': {\"u'4-Methylethcathinone', u'Cannabis', u'Pharms - Oxycodone', u'Tobacco - Cigarettes'\": u' Male'}, '102129': {'': u' Male'}, '100398': {}, '10232': {\"u'Cacti - T. peruvianus'\": u' Male'}, '10263': {\"u'Mushrooms - P. cubensis'\": u' Male'}, '101257': {\"u'Morphine', u'Tobacco'\": u' Male'}, '103308': {\"u'Cannabis', u'Nutmeg'\": u' Female'}, '101254': {\"u'Amphetamines'\": u' Male'}, '101158': {'u\"St. John\\'s Wort\", u\\'Passion Flower\\', u\\'5-MeO-DMT\\'': u' Male'}, '100098': {'': u' Male'}, '100099': {\"u'Diphenhydramine'\": u' Male'}, '101627': {\"u'Codeine', u'Caffeine', u'Acetaminophen'\": u' Male'}, '100090': {\"u'Kratom', u'Pharms - Sertraline', u'Pharms - Clonazepam'\": u' Male'}, '101258': {\"u'Cannabis', u'4-HO-MiPT'\": u' Male'}, '100650': {\"u'Products - Spice and Synthetic Cannabinoids'\": u' Not Specified'}, '10268': {\"u'MDMA'\": u' Female'}, '100654': {\"u'Etizolam', u'Alcohol', u'Cannabis'\": u' Male'}, '100879': {\"u'bk-MDEA'\": u' Male'}, '100656': {\"u'Methoxetamine ', u'Pharms - Clonazepam', u'LSD', u'25I-NBOMe'\": u' Male'}, '101781': {\"u'LSZ'\": u' Male'}, '100710': {\"u'MDMA', u'25I-NBOMe'\": u' Male'}, '100713': {\"u'25I-NBOMe'\": u' Male'}, '101782': {\"u'NBOMe Series'\": u' Female'}, '100714': {\"u'25I-NBOMe'\": u' Male'}, '102193': {\"u'Syrian Rue', u'Acacia confusa'\": u' Male'}, '100873': {\"u'LSZ'\": u' Male'}, '102188': {\"u'Pharmaceuticals', u'25C-NBOMe', u'Cannabinoid Receptor Agonists'\": u' Female'}, '100894': {\"u'Cannabis', u'Pharms - Memantine'\": u' Male'}, '100891': {\"u'25I-NBOMe'\": u' Male'}, '100952': {\"u'Cannabis', u'Melatonin', u'Diphenhydramine', u'Pharms - Sertraline', u'AL-LAD'\": u' Male'}, '100899': {\"u'Etizolam'\": u' Not Specified'}, '101434': {\"u'Alcohol - Beer/Wine', u'LSZ'\": u' Male'}, '101538': {\"u'Tobacco - Cigarettes', u'Nitrous Oxide', u'25I-NBOMe'\": u' Female'}, '101539': {\"u'2C-D'\": u' Female'}, '100001': {\"u'Alcohol - Beer/Wine', u'25C-NBOMe'\": u' Male'}, '101530': {\"u'Methoxetamine '\": u' Female'}, '100008': {\"u'4-AcO-DMT'\": u' Male'}, '101026': {\"u'Cannabis', u'AL-LAD'\": u' Male'}, '101027': {\"u'Cannabis', u'Diphenhydramine', u'Methallylescaline'\": u' Male'}, '100438': {\"u'Pharms - Baclofen'\": u' Male'}, '102947': {'': u' Male'}, '100435': {'': u' Female'}, '102949': {\"u'Methoxetamine '\": u' Male'}, '102538': {\"u'AL-LAD'\": u' Male'}, '102434': {\"u'Methiopropamine'\": u' Male'}, '102439': {\"u'Chamomile', u'Ginger'\": u' Male'}, '103020': {\"u'Pharms - Atomoxetine', u'Caffeine'\": u' Male'}, '103021': {\"u'25B-NBOMe', u'Cannabis', u'Tobacco'\": u' Male'}, '103180': {\"u'Cannabis', u'Tobacco - Cigarettes'\": u' Male'}, '101324': {\"u'Pharms - Alprazolam', u'25I-NBOMe'\": u' Female'}, '10153': {\"u'Mushrooms - P. cubensis'\": u' Male'}, '10019': {\"u'Cannabis'\": u' Male'}, '101923': {\"u'25I-NBOMe'\": u' Male'}, '10013': {\"u'LSD'\": u' Male'}, '100355': {\"u'Methylone'\": u' Male'}, '101929': {\"u'Heroin'\": u' Female'}, '102799': {\"u'Kratom'\": u' Male'}, '100130': {\"u'25I-NBOMe'\": u' Male'}, '100135': {\"u'25I-NBOMe'\": u' Male'}, '100504': {\"u'25I-NBOMe'\": u' Male'}, '101703': {\"u'H.B. Woodrose'\": u' Male'}, '100507': {\"u'Cannabis'\": u' Male'}, '102891': {\"u'5-MeO-MIPT'\": u' Male'}, '103339': {\"u'Syrian Rue', u'Acacia confusa'\": u' Not Specified'}, '102894': {\"u'Xenon'\": u' Male'}, '103334': {\"u'Mushrooms'\": u' Male'}, '100294': {\"u'Cannabis', u'Diphenhydramine', u'25I-NBOMe'\": u' Male'}, '102363': {\"u'Cannabis', u'Alcohol - Beer/Wine'\": u' Male'}, '102008': {\"u'5-MeO-DiPT'\": u' Female'}, '102368': {'': u' Male'}, '102369': {\"u'Alcohol - Hard', u'Cannabis', u'25C-NBOMe'\": u' Male'}, '101663': {\"u'5-MeO-DiPT'\": u' Female'}, '100343': {\"u'Pharms - Zolpidem'\": u' Male'}, '100341': {\"u'Products - Spice and Synthetic Cannabinoids'\": u' Male'}, '100347': {\"u'25B-NBOMe', u'Cannabis'\": u' Female'}, '100612': {\"u'Cannabis', u'Pharms - Diazepam', u'25I-NBOMe'\": u' Male'}, '101212': {\"u'MDMA', u'DPT'\": u' Male'}, '10087': {\"u'Nutmeg', u'Caffeine'\": u' Male'}, '10082': {\"u'1,4-Butanediol'\": u' Male'}, '10083': {\"u'Alcohol - Hard', u'Morning Glory'\": u' Male'}, '102313': {\"u'Kratom'\": u' Female'}, '103242': {\"u'Alcohol - Beer/Wine', u'Methoxphenidine'\": u' Male'}, '100599': {\"u'Cannabis', u'25I-NBOMe'\": u' Male'}, '102760': {'': u' Male'}, '102094': {'': u' Male'}, '100189': {\"u'Methoxetamine '\": u' Male'}, '100223': {\"u'Methoxetamine '\": u' Male'}, '100913': {\"u'25I-NBOMe'\": u' Male'}, '100914': {\"u'Ethylphenidate'\": u' Male'}, '101104': {\"u'Cannabis', u'MDMA', u'25C-NBOMe', u'2C-C'\": u' Female'}, '101100': {\"u'2C-B', u'Mushrooms'\": u' Male'}, '101066': {\"u'Methoxetamine '\": u' Male'}, '100048': {\"u'2C-P', u'Pharms - Alprazolam'\": u' Male'}, '102167': {\"u'25B-NBOMe'\": u' Male'}, '100823': {\"u'LSZ'\": u' Male'}, '100765': {\"u'AL-LAD', u'GHB'\": u' Male'}, '100820': {\"u'DOM'\": u' Male'}, '100045': {\"u'Ketamine', u'NBOMe Series'\": u' Male'}, '102169': {\"u'Heroin'\": u' Female'}, '101088': {\"u'4-AcO-DMT', u'Cannabis'\": u' Male'}, '102864': {\"u'5-MeO-DALT'\": u' Male'}, '102867': {\"u'25B-NBOMe'\": u' Male'}, '103065': {\"u'25I-NBOMe'\": u' Male'}, '103068': {\"u'Etizolam'\": u' Female'}, '101364': {\"u'Ethylphenidate'\": u' Male'}, '103147': {\"u'Cocaine'\": u' Male'}, '101407': {\"u'Salvia divinorum', u'Methoxetamine '\": u' Female'}, '102226': {\"u'25B-NBOMe'\": u' Male'}, '10057': {\"u'MDMA'\": u' Not Specified'}, '102590': {\"u'Salvia divinorum'\": u' Male'}, '10054': {\"u'Mushrooms', u'Nitrous Oxide'\": u' Female'}, '10051': {\"u'Valerian'\": u' Male'}, '10050': {\"u'Tobacco - Cigarettes', u'Absinthe'\": u' Female'}, '10186': {\"u'Cannabis', u'Morning Glory'\": u' Male'}, '102696': {'': u' Not Specified'}, '102600': {\"u'4-AcO-DMT', u'Cannabis'\": u' Male'}, '100547': {\"u'5-MeO-DALT'\": u' Male'}, '101964': {\"u'4-AcO-DMT', u'Pharms - Alprazolam'\": u' Male'}, '100542': {\"u'Cannabis', u'25I-NBOMe', u'MDMA'\": u' Male'}, '102269': {\"u'Etizolam'\": u' Male'}, '102268': {\"u'GBL', u'AL-LAD'\": u' Male'}, '102508': {\"u'Alcohol - Beer/Wine'\": u' Male'}, '102911': {\"u'Xenon'\": u' Male'}, '102265': {\"u'Cannabis', u'Pharms - Clonazepam'\": u' Female'}, '101541': {\"u'Mushrooms', u'Cannabis', u'DMT', u'Banisteriopsis caapi'\": u' Female'}, '101319': {\"u'DPT'\": u' Male'}, '102282': {\"u'2C-B'\": u' Female'}, '102320': {\"u'Syrian Rue', u'Acacia confusa'\": u' Male'}, '101814': {\"u'Kratom', u'Tobacco - Cigarettes'\": u' Male'}, '10129': {\"u'Dimenhydrinate'\": u' Male'}, '101705': {\"u'JWH-200', u'Modafinil'\": u' Male'}, '100794': {\"u'25I-NBOMe'\": u' Male'}, '101813': {\"u'Modafinil'\": u' Male'}, '10121': {\"u'Salvia divinorum'\": u' Male'}, '10127': {\"u'Cannabis', u'Amanitas - A. muscaria'\": u' Male'}, '10125': {\"u'Amphetamines'\": u' Male'}, '100260': {\"u'Ethylphenidate', u'25I-NBOMe'\": u' Female'}, '100262': {\"u'Cannabis', u'Amphetamines', u'Tobacco - Cigarettes', u'Pharms - Clonazepam', u'25I-NBOMe'\": u' Male'}, '100269': {\"u'Pharms - Fluoxetine', u'Kratom'\": u' Male'}, '103367': {\"u'Pharmaceuticals', u'a-PVP'\": u' Male'}, '102216': {\"u'Diphenhydramine', u'Products - Spice and Synthetic Cannabinoids'\": u' Male'}, '100493': {\"u'Cannabis', u'Alcohol - Beer/Wine', u'Methoxetamine '\": u' Male'}, '100143': {\"u'25I-NBOMe'\": u' Female'}, '100496': {\"u'Pharms - Gabapentin'\": u' Male'}, '100494': {\"u'Tobacco - Cigarettes', u'25I-NBOMe'\": u' Male'}, '100818': {\"u'AL-LAD'\": u' Male'}, '10184': {\"u'Kava', u'Ephedrine'\": u' Male'}, '102135': {'': u' Male'}, '102133': {\"u'Cannabis', u'DPT', u'MET'\": u' Male'}, '10187': {\"u'Cannabis'\": u' Male'}, '101171': {\"u'Syrian Rue', u'Acacia confusa'\": u' Male'}, '10181': {\"u'Nutmeg'\": u' Male'}, '10221': {\"u'Salvia divinorum'\": u' Male'}, '10223': {\"u'Nutmeg'\": u' Male'}, '101638': {}, '101143': {\"u'Methallylescaline'\": u' Male'}, '100087': {\"u'Products - Spice and Synthetic Cannabinoids', u'25I-NBOMe'\": u' Male'}, '101144': {\"u'4-Fluoroamphetamine'\": u' Male'}, '102041': {\"u'Methoxetamine '\": u' Male'}, '102907': {\"u'Alcohol - Beer/Wine', u'Pharms - Pregabalin'\": u' Male'}, '100644': {\"u'Naloxone', u'Pharms - Buprenorphine', u'Pharms - Clonazepam'\": u' Male'}, '100864': {\"u'Pharms - Clonazepam', u'Ethylphenidate'\": u' Male'}, '102905': {\"u'4-HO-MET'\": u' Male'}, '101032': {\"u'Heroin'\": u' Male'}, '101529': {\"u'Methoxetamine '\": u' Not Specified'}, '101528': {\"u'Methoxetamine ', u'Tobacco - Cigarettes'\": u' Female'}, '100038': {\"u'Pharms - Clonazepam', u'Diphenhydramine', u'Pharms - Buprenorphine', u'25I-NBOMe', u'Cannabis', u'Alcohol - Beer/Wine'\": u' Male'}, '101526': {\"u'5-MeO-DiPT'\": u' Female'}, '10318': {\"u'Cannabis', u'LSD', u'Alcohol - Beer/Wine'\": u' Male'}, '10319': {'': u' Male'}, '10311': {\"u'Mushrooms'\": u' Male'}, '10312': {\"u'Cannabis', u'Nutmeg'\": u' Male'}, '10314': {\"u'Salvia divinorum'\": u' Male'}, '102951': {\"u'Lagochilus inebrians'\": u' Male'}, '102958': {\"u'Cannabis', u'LSZ'\": u' Male'}, '100421': {\"u'Tobacco - Cigarettes', u'Pharms - Zolpidem'\": u' Male'}, '100088': {\"u'25I-NBOMe'\": u' Male'}, '103039': {\"u'Ketamine'\": u' Male'}, '101451': {\"u'Ayahuasca'\": u' Male'}, '10006': {\"u'PCP'\": u' Male'}, '10007': {\"u'Pharms - Zolpidem'\": u' Male'}, '10000': {\"u'MDMA'\": u' Male'}, '10001': {\"u'Nutmeg', u'Wormwood', u'Kava'\": u' Male'}, '102520': {\"u'Pharms - Fentanyl'\": u' Male'}, '10165': {\"u'LSD'\": u' Male'}, '10164': {\"u'Morning Glory'\": u' Male'}, '10160': {\"u'Salvia divinorum'\": u' Male'}, '100513': {\"u'4-HO-MET', u'4-HO-MiPT', u'Alcohol'\": u' Male'}, '101915': {'': u' Male'}, '100511': {\"u'5-MeO-DMT'\": u' Male'}, '101851': {\"u'2C-B', u'Ketamine', u'LSD', u'Cannabis - Hash'\": u' Male'}, '100696': {\"u'Alcohol - Hard', u'MDMA', u'25I-NBOMe'\": u' Male'}, '100697': {\"u'25I-NBOMe'\": u' Male'}, '101857': {'': u' Male'}, '100109': {\"u'Mushrooms', u'Cannabis - Hash', u'DMT'\": u' Male'}, '102254': {\"u'Sakae Naa '\": u' Male'}, '100105': {\"u'5-MeO-MIPT'\": u' Male'}, '100106': {\"u'Cannabis', u'LSD', u'Cannabis - Hash', u'Etizolam'\": u' Male'}, '100453': {\"u'Cannabis', u'AL-LAD'\": u' Not Specified'}, '100451': {\"u'AL-LAD'\": u' Male'}, '103084': {\"u'25I-NBOMe'\": u' Male'}, '103323': {\"u'Etizolam'\": u' Male'}, '102498': {\"u'Tabernanthe iboga'\": u' Male'}, '10260': {\"u'Cannabis'\": u' Male'}, '102377': {\"u'6-APB'\": u' Male'}, '102376': {\"u'Cannabis'\": u' Male'}, '102370': {\"u'Cannabis', u'LSD'\": u' Male'}, '102072': {\"u'Lorcaserin'\": u' Male'}, '10269': {\"u'DHEA'\": u' Male'}, '102075': {\"u'Cannabis', u'LSZ'\": u' Male'}, '100600': {\"u'Tabernanthe iboga'\": u' Male'}, '102083': {\"u'4-AcO-DMT', u'Tobacco - Cigarettes'\": u' Male'}, '100218': {\"u'MDPV'\": u' Male'}, '103250': {\"u'DMT'\": u' Female'}, '100216': {\"u'Chloral Hydrate'\": u' Male'}, '102106': {\"u'5-MeO-DMT'\": u' Male'}, '102104': {\"u'Cannabis', u'Peyote'\": u' Female'}, '10118': {\"u'Absinthe'\": u' Male'}, '10215': {\"u'GBL', u'5-MeO-DiPT'\": u' Male'}, '101484': {\"u'Alcohol - Beer/Wine', u'Diphenhydramine', u'Melatonin'\": u' Male'}, '101485': {\"u'LSD', u'DPT', u'MDMA', u'4-Acetoxy-DiPT', u'DMT', u'4-Acetoxy-MiPT'\": u' Female'}, '101173': {'': u' Not Specified'}, '101170': {\"u'4-HO-MiPT'\": u' Male'}, '101078': {\"u'25I-NBOMe'\": u' Female'}, '100070': {\"u'Cannabis', u'6-APB', u'5-MeO-DALT'\": u' Male'}, '10189': {\"u'Mushrooms'\": u' Male'}, '10188': {\"u'Guarana'\": u' Male'}, '102172': {\"u'Etizolam'\": u' Not Specified'}, '100851': {\"u'4-AcO-DMT', u'Nitrous Oxide', u'Cannabis'\": u' Male'}, '100671': {\"u'25B-NBOMe'\": u' Male'}, '101270': {\"u'4-HO-MET', u'Banisteriopsis muricata'\": u' Male'}, '100994': {\"u'25C-NBOMe'\": u' Male'}, '100975': {\"u'NBOMe Series'\": u' Male'}, '102851': {\"u'Hydrocodone', u'Acetaminophen'\": u' Male'}, '100221': {\"u'Tabernanthe iboga', u'Ibogaine'\": u' Male'}, '101394': {\"u'LSD'\": u' Male'}, '101557': {\"u'Pharms - Lorazepam', u'Pharms - Zolpidem'\": u' Male'}, '101414': {'': u' Male'}, '101000': {\"u'Methoxphenidine'\": u' Male'}, '10320': {\"u'Diphenhydramine'\": u' Male'}, '10323': {\"u'Methamphetamine'\": u' Male'}, '10326': {\"u'Mushrooms', u'Cannabis'\": u' Male'}, '101895': {\"u'Cannabis', u'DOM'\": u' Male'}, '10041': {\"u'Mushrooms - P. cubensis'\": u' Male'}, '10045': {\"u'Hydromorphone'\": u' Male'}, '10046': {\"u'LSD', u'2C-I'\": u' Male'}, '102680': {'': u' Male'}, '103280': {\"u'Cannabis', u'LSD'\": u' Female'}, '103284': {\"u'Pharms - Pregabalin'\": u' Not Specified'}, '102510': {\"u'Tea'\": u' Male'}, '102517': {\"u'AL-LAD'\": u' Male'}, '102457': {'': u' Male'}, '10135': {\"u'Petroleum Ether'\": u' Male'}, '101821': {\"u'Phenylpiracetam'\": u' Male'}, '101823': {\"u'25I-NBOMe'\": u' Male'}, '10038': {\"u'Nutmeg'\": u' Male'}, '10034': {\"u'MDMA'\": u' Male'}, '10037': {\"u'Catnip'\": u' Male'}, '10031': {\"u'Cannabis', u'Inhalants'\": u' Male'}, '10033': {\"u'Mushrooms'\": u' Male'}, '100157': {\"u'MAOI'\": u' Male'}, '100156': {\"u'JWH-018', u'AM-2201', u'Methoxetamine ', u'GHB'\": u' Male'}, '100526': {\"u'Cannabis', u'25I-NBOMe'\": u' Male'}, '100255': {\"u'Cannabis', u'Methoxetamine ', u'25I-NBOMe'\": u' Male'}, '100524': {\"u'Cannabis', u'Cacti - T. pachanoi'\": u' Female'}, '100525': {'': u' Male'}, '100251': {\"u'Pharms - Gabapentin', u'Pharms - Mirtazapine', u'Pharms - Citalopram', u'Ethylphenidate'\": u' Female'}, '100252': {\"u'25I-NBOMe'\": u' Male'}, '100158': {\"u'4-AcO-DMT', u'Pharms - Citalopram'\": u' Male'}, '100488': {'': u' Male'}, '103352': {\"u'Cannabis', u'LSD'\": u' Female'}, '103211': {\"u'Syrian Rue', u'Alcohol - Beer/Wine', u'Acacia confusa'\": u' Male'}, '103218': {\"u'Etizolam', u'4-HO-MET', u'4-Fluoroamphetamine', u'Cannabis'\": u' Male'}, '100485': {'': u' Male'}, '100246': {\"u'4-AcO-DMT'\": u' Male'}, '10259': {\"u'Diphenhydramine', u'Hydrocodone'\": u' Male'}, '10252': {'': u' Male'}, '10254': {\"u'Pharms - Oxycodone'\": u' Male'}, '10257': {\"u'Mushrooms'\": u' Male'}, '10256': {\"u'Tobacco - Cigarettes', u'Catnip', u'Nitrous Oxide'\": u' Female'}, '101609': {\"u'Vervain'\": u' Male'}, '101604': {\"u'LSZ'\": u' Male'}, '100685': {\"u'25B-NBOMe'\": u' Female'}, '10328': {\"u'Tobacco - Cigarettes', u'Caffeine'\": u' Male'}, '100632': {\"u'25B-NBOMe'\": u' Male'}, '100630': {\"u'25I-NBOMe'\": u' Male'}, '100939': {'': u' Female'}, '101893': {\"u'Alcohol - Beer/Wine', u'25I-NBOMe'\": u' Male'}, '103135': {'': u' Male'}, '101510': {'': u' Not Specified'}, '100746': {\"u'25I-NBOMe'\": u' Male'}, '100744': {\"u'Cannabis', u'25C-NBOMe'\": u' Male'}, '100742': {\"u'25C-NBOMe', u'Pharms - Zolpidem'\": u' Male'}, '100740': {\"u'Cannabis', u'LSZ'\": u' Male'}, '100028': {\"u'Hydrocodone', u'Pharms - Dronabinol'\": u' Male'}, '101124': {\"u'Syrian Rue', u'Acacia confusa'\": u' Female'}, '101131': {\"u'4-AcO-DMT', u'Cannabis'\": u' Male'}, '101120': {\"u'Alcohol - Hard', u'LSZ'\": u' Male'}, '101690': {\"u'5-MeO-DALT', u'Alcohol'\": u' Male'}, '101998': {\"u'DMT'\": u' Female'}, '101991': {\"u'Cannabis', u'25C-NBOMe'\": u' Male'}, '102804': {\"u'Alcohol - Hard', u'Cannabis'\": u' Male'}, '102968': {\"u'25I-NBOMe'\": u' Female'}, '102960': {\"u'25B-NBOMe', u'MDMA', u'Methamphetamine'\": u' Male'}, '103001': {\"u'Cannabis', u'Methoxphenidine'\": u' Male'}, '101462': {\"u'Salvia divinorum'\": u' Male'}, '101341': {\"u'Cannabis', u'25C-NBOMe', u'25I-NBOMe'\": u' Male'}, '101469': {\"u'Cannabis'\": u' Male'}, '10178': {\"u'Nutmeg'\": u' Male'}, '101867': {'': u' Male'}, '10077': {\"u'Ephedrine'\": u' Male'}, '10079': {\"u'Mushrooms'\": u' Male'}, '10171': {\"u'Pharms - Carisoprodol'\": u' Female'}, '101868': {\"u'25B-NBOMe', u'Cannabis', u'Nicotine', u'Pharms - Clonazepam'\": u' Male'}, '10175': {\"u'Mushrooms'\": u' Not Specified'}, '10177': {\"u'Morning Glory'\": u' Male'}, '100688': {\"u'Cannabis', u'25I-NBOMe'\": u' Male'}, '100566': {\"u'Cannabis', u'LSD'\": u' Male'}, '100567': {\"u'Cannabis', u'25C-NBOMe'\": u' Not Specified'}, '101907': {'': u' Male'}, '101902': {\"u'Cannabis', u'Bromo-Dragonfly'\": u' Male'}, '101901': {'u\"St. John\\'s Wort\", u\\'Alcohol - Beer/Wine\\', u\\'25C-NBOMe\\'': u' Male'}, '101900': {\"u'Mushrooms', u'MDMA', u'25C-NBOMe', u'Cannabis'\": u' Male'}, '103310': {\"u'Kratom'\": u' Male'}, '101628': {\"u'AL-LAD'\": u' Female'}, '100445': {\"u'25I-NBOMe'\": u' Male'}, '100443': {\"u'Methoxetamine '\": u' Male'}, '103098': {\"u'bk-MDEA'\": u' Male'}, '102566': {\"u'Kratom'\": u' Male'}}\n"
     ]
    }
   ],
   "source": [
    "#because of the fact that we downloaded the data to file, decided to make smaller dict \n",
    "# ref is the experience number (and therefore file name)\n",
    "# {ref {drug: gender}}\n",
    "\n",
    "def retrieve_drug_and_gender(folder):\n",
    "    \"\"\"\n",
    "    takes a folder and opens the files inside\n",
    "    then finds the foottable and extracts the gender\n",
    "    then finds the beginning table and extracts the drug   \n",
    "    \"\"\"\n",
    "    drug_dict = {}\n",
    "    #put this back os.listdir\n",
    "    for f in (folder):\n",
    "        drug_dict[f] = {}\n",
    "        open_file = open(path_to_folder + '//' + f, 'r')\n",
    "        bs_f = bs(open_file, \"lxml\")\n",
    "        #find the html table with the class footdata\n",
    "        # write a check for the table\n",
    "        if (bs_f.find(class_='footdata')):\n",
    "            #print \"yes\"\n",
    "            end_table = bs_f.find(class_='footdata')\n",
    "            rows = end_table.findAll('tr')\n",
    "            #print rows\n",
    "            #the gender is listed in the table data text as the 3rd element in the table\n",
    "            gender_in_table = [[td.text for td in tr.findAll(\"td\")] for tr in rows]\n",
    "            g = gender_in_table[1]\n",
    "            #clumsy function that takes the 0th element of the list from g  and partitions it to return the\n",
    "            #second substring\n",
    "            gender = g[0].partition(':')[2]\n",
    "            #get the table containing the drug information\n",
    "            drug_class = [td.find('a') for td in bs_f.findAll('td', {'class' : 'dosechart-substance'})]\n",
    "            #take a set of the list to remove duplicate entries\n",
    "            drug = set([drug.text for drug in drug_class if drug])\n",
    "            #convert to string to use in dict\n",
    "            # naiave way to remove unwanted characters from string\n",
    "            drug = str(drug).strip(\"set([\")\n",
    "            drug = str(drug).strip(\"])\")\n",
    "            drug_dict[f][drug] = gender\n",
    "        else:\n",
    "            pass\n",
    "    return drug_dict\n",
    "\n",
    "#a list of genders and the drugs\n",
    "#data_set = retrieve_drug_and_gender(absolute_urls)\n",
    "\n",
    "print retrieve_drug_and_gender(test_files)"
   ]
  },
  {
   "cell_type": "code",
   "execution_count": 86,
   "metadata": {
    "collapsed": false
   },
   "outputs": [
    {
     "name": "stdout",
     "output_type": "stream",
     "text": [
      " Male\n",
      "\n"
     ]
    }
   ],
   "source": []
  },
  {
   "cell_type": "code",
   "execution_count": null,
   "metadata": {
    "collapsed": true
   },
   "outputs": [],
   "source": []
  }
 ],
 "metadata": {
  "anaconda-cloud": {},
  "kernelspec": {
   "display_name": "Python [Root]",
   "language": "python",
   "name": "Python [Root]"
  },
  "language_info": {
   "codemirror_mode": {
    "name": "ipython",
    "version": 2
   },
   "file_extension": ".py",
   "mimetype": "text/x-python",
   "name": "python",
   "nbconvert_exporter": "python",
   "pygments_lexer": "ipython2",
   "version": "2.7.12"
  }
 },
 "nbformat": 4,
 "nbformat_minor": 0
}
