{
 "cells": [
  {
   "cell_type": "code",
   "execution_count": 1,
   "metadata": {
    "collapsed": true
   },
   "outputs": [],
   "source": [
    "from collections import Counter,defaultdict\n",
    "from bs4 import BeautifulSoup as bs\n",
    "from bs4 import Comment\n",
    "import os\n",
    "import glob\n",
    "import nltk\n",
    "import math\n",
    "import urllib2\n",
    "import time\n",
    "import progressbar\n",
    "from __future__ import division"
   ]
  },
  {
   "cell_type": "code",
   "execution_count": 2,
   "metadata": {
    "collapsed": false
   },
   "outputs": [],
   "source": [
    "path_to_folder = 'C:\\\\Users\\\\Isobel\\\\Documents\\\\auc\\\\textmining\\\\erowid_text'\n",
    "filenames = os.listdir(path_to_folder)\n",
    "\n",
    "test_files = filenames\n"
   ]
  },
  {
   "cell_type": "code",
   "execution_count": 3,
   "metadata": {
    "collapsed": false
   },
   "outputs": [],
   "source": [
    "#because of the fact that we downloaded the data to file, decided to make smaller dict \n",
    "# ref is the experience number (and therefore file name)\n",
    "# {ref {drug: gender}}\n",
    "\n",
    "def retrieve_drug_and_gender(folder):\n",
    "    \"\"\"\n",
    "    takes a folder and opens the files inside\n",
    "    then finds the foottable and extracts the gender\n",
    "    then finds the beginning table and extracts the drug   \n",
    "    \"\"\"\n",
    "    drug_dict = {}\n",
    "    #put this back os.listdir\n",
    "    for f in (folder):\n",
    "        drug_dict[f] = {}\n",
    "        open_file = open(path_to_folder + '//' + f, 'r')\n",
    "        bs_f = bs(open_file, \"lxml\")\n",
    "        #find the html table with the class footdata\n",
    "        # write a check for the table\n",
    "        if (bs_f.find(class_='footdata')):\n",
    "            #print \"yes\"\n",
    "            end_table = bs_f.find(class_='footdata')\n",
    "            rows = end_table.findAll('tr')\n",
    "            #print rows\n",
    "            #the gender is listed in the table data text as the 3rd element in the table\n",
    "            gender_in_table = [[td.text for td in tr.findAll(\"td\")] for tr in rows]\n",
    "            g = gender_in_table[1]\n",
    "            #clumsy function that takes the 0th element of the list from g  and partitions it to return the\n",
    "            #second substring\n",
    "            gender = g[0].partition(':')[2]\n",
    "            #get the table containing the drug information\n",
    "            drug_class = [td.find('a') for td in bs_f.findAll('td', {'class' : 'dosechart-substance'})]\n",
    "            #take a set of the list to remove duplicate entries\n",
    "            drug = set([drug.text for drug in drug_class if drug])\n",
    "            #convert to string to use in dict\n",
    "            # naiave way to remove unwanted characters from string\n",
    "            drug = str(drug).strip(\"set([\")\n",
    "            drug = str(drug).strip(\"])\")\n",
    "            drug_dict[f][drug] = gender\n",
    "        else:\n",
    "            pass\n",
    "    return drug_dict\n",
    "\n",
    "#a list of genders and the drugs\n",
    "#data_set = retrieve_drug_and_gender(absolute_urls)\n",
    "\n",
    "test_dict =  retrieve_drug_and_gender(test_files)"
   ]
  },
  {
   "cell_type": "code",
   "execution_count": 4,
   "metadata": {
    "collapsed": false
   },
   "outputs": [],
   "source": [
    "def count_gender(drug_gender_dict):\n",
    "    \"\"\"\n",
    "    takes output of retrieve_drug_and_gender and \n",
    "    returns a dict of theccount of each gender for each drug\n",
    "    \"\"\"\n",
    "    male_dict = {}\n",
    "    female_dict = {}\n",
    "    #select the second list in the item -> this is the part \n",
    "    #containing the information about gender\n",
    "    for i in drug_gender_dict.values():\n",
    "        for gender in i.values():\n",
    "            #if gender is male, male_count is + 1\n",
    "            if \"Male\" in gender:\n",
    "                # we need to add 1 to the count specific to that drug\n",
    "                #use a set to ensure no repetition of drug name in table\n",
    "                for drug in i.keys():\n",
    "                    if not drug in male_dict:\n",
    "                        #if the drug is not already a key in the dict, then the count is 1\n",
    "                        # as we havent seen it before\n",
    "                        male_dict[drug] = 1\n",
    "                    else:\n",
    "                        # the count is incremented by 1\n",
    "                        male_dict[drug] += 1\n",
    "            #add 1 to female count if the gender is female\n",
    "            if \"Female\" in gender:\n",
    "                #check that there is no repetition of the same drug in a single entry\n",
    "                for drug in i.keys():\n",
    "                    if not drug in female_dict:\n",
    "                        #the count is 1\n",
    "                        female_dict[drug] = 1 \n",
    "                    else:\n",
    "                        # the count is incremented by 1\n",
    "                        female_dict[drug] += 1\n",
    "            else:\n",
    "                #if gender is not specified, we ignore it\n",
    "                pass\n",
    "    return female_dict, male_dict"
   ]
  },
  {
   "cell_type": "code",
   "execution_count": 5,
   "metadata": {
    "collapsed": false
   },
   "outputs": [],
   "source": [
    "gender_count_tuple = count_gender(test_dict)"
   ]
  },
  {
   "cell_type": "code",
   "execution_count": 19,
   "metadata": {
    "collapsed": false
   },
   "outputs": [
    {
     "name": "stdout",
     "output_type": "stream",
     "text": [
      "[(\"u'Salvia divinorum'\", 837), (\"u'Cannabis'\", 519), (\"u'Mushrooms'\", 387), (\"u'LSD'\", 286), (\"u'MDMA'\", 256)]\n"
     ]
    },
    {
     "data": {
      "image/png": "[encoded data removed]",
      "text/plain": [
       "<matplotlib.figure.Figure at 0xbd5c0f0>"
      ]
     },
     "metadata": {},
     "output_type": "display_data"
    },
    {
     "data": {
      "image/png": "[encoded data removed]",
      "text/plain": [
       "<matplotlib.figure.Figure at 0x10a69358>"
      ]
     },
     "metadata": {},
     "output_type": "display_data"
    }
   ],
   "source": [
    "#display the results as bar plots\n",
    "\n",
    "%matplotlib inline\n",
    "import matplotlib.pyplot as plt\n",
    "\n",
    "\n",
    "#the first dict is female drug users\n",
    "female_drugs = gender_count_tuple[0]\n",
    "#clean the empty string values '' from the dict\n",
    "cleaned_female_drugs = {i:female_drugs[i] for i in female_drugs if i!=''}\n",
    "#the second dict is male drug users\n",
    "male_drugs = gender_count_tuple[1]\n",
    "#clean the empty string values from the dict\n",
    "cleaned_male_drugs = {i:male_drugs[i] for i in male_drugs if i!=''}\n",
    "\n",
    "#get the top 5 used drugs from male and female users useing the cleaned dicts\n",
    "top_female_drugs = Counter(cleaned_female_drugs).most_common(5)\n",
    "top_male_drugs = Counter(cleaned_male_drugs).most_common(5)\n",
    "print top_male_drugs\n",
    "\n",
    "#display the results as a bar chart\n",
    "#female drug users plotted onto a graph\n",
    "plt.bar(range(len(top_female_drugs)), [x[1] for x in top_female_drugs], align=\"center\")\n",
    "plt.xticks(range(len(top_female_drugs)), [x[0] for x in top_female_drugs], rotation='vertical')\n",
    "#label the axis\n",
    "plt.ylabel('amount of users')\n",
    "plt.title('Female drug users')\n",
    "\n",
    "plt.show()\n",
    "\n",
    "#male drug users plotted onto a drug\n",
    "plt.bar(range(len(top_male_drugs)), [y[1] for y in top_male_drugs], align=\"center\")\n",
    "plt.xticks(range(len(top_male_drugs)), [y[0] for y in top_male_drugs], rotation='vertical')\n",
    "#label the axis \n",
    "plt.ylabel('amount of users')\n",
    "plt.title('Male drug users')\n",
    "\n",
    "plt.show()"
   ]
  },
  {
   "cell_type": "code",
   "execution_count": 7,
   "metadata": {
    "collapsed": false
   },
   "outputs": [],
   "source": [
    "from wordcloud import WordCloud\n",
    "from collections import Counter\n",
    "from nltk.corpus import stopwords \n",
    "\n",
    "stop_words = set(stopwords.words('english'))"
   ]
  },
  {
   "cell_type": "code",
   "execution_count": 8,
   "metadata": {
    "collapsed": true
   },
   "outputs": [],
   "source": [
    "#function to make clouds \n",
    "def make_cloud(text):\n",
    "    wordcloud = WordCloud(max_font_size=40, relative_scaling=.5).generate(text)  # Note that this is different from the code on the web! You must specify the font path\n",
    "    # Open a plot of the generated image.\n",
    "    plt.imshow(wordcloud)\n",
    "    plt.axis(\"off\")\n",
    "    return plt.show()"
   ]
  },
  {
   "cell_type": "code",
   "execution_count": 22,
   "metadata": {
    "collapsed": false
   },
   "outputs": [],
   "source": [
    "\n",
    "def find_LSD(in_dict):\n",
    "    \"\"\"\n",
    "    takes a dict and converts it to it's items (a tuple)\n",
    "    if LSD is in the second part of the tuple\n",
    "    we return the first part of the tuple\n",
    "    which is the ID\"\"\"\n",
    "    ID = []\n",
    "    item = in_dict.items()\n",
    "    for i in item:\n",
    "        if  \"u'LSD'\" in i[1]:\n",
    "            key_id = i[0]\n",
    "            ID.append(key_id)\n",
    "        if \"u'Mushrooms'\" in i[1]:\n",
    "            key_id = i[0]\n",
    "            ID.append(key_id)\n",
    "    return ID\n",
    "        \n",
    "LSD_ID = find_LSD(test_dict)\n"
   ]
  },
  {
   "cell_type": "code",
   "execution_count": 23,
   "metadata": {
    "collapsed": false
   },
   "outputs": [],
   "source": [
    "def clean_text(list_of_id):\n",
    "    no_stop_words = []\n",
    "    l = []\n",
    "    for i in list_of_id:\n",
    "        \"\"\"\n",
    "        takes a list of drug ids and opens the corresponding files\n",
    "        then returns the cleaned and tokenised message\n",
    "        \"\"\"\n",
    "        open_file = open(path_to_folder + '//' + i, 'r')\n",
    "        text = open_file.read()\n",
    "        #extract the txt after the <!-- Start Body --> comment\n",
    "        body = text.partition('<!-- Start Body -->')[2]\n",
    "        #extract text before <!-- End Body --> comment\n",
    "        message = body.partition('<!-- End Body -->')[0]\n",
    "        #lower case and remove the <br>\n",
    "        message = message.lower()\n",
    "        no_br = message.replace('<br>', '')\n",
    "        no_slash_br = no_br.replace('<br/>', '')\n",
    "        #remove stop words\n",
    "        no_stop_words = [w for w in no_slash_br.split() if w not in stop_words]\n",
    "        l.extend(no_stop_words)\n",
    "    return l\n",
    "        \n",
    "\n",
    "tokenised = clean_text(LSD_ID)  \n",
    "#print tokenised"
   ]
  },
  {
   "cell_type": "code",
   "execution_count": 24,
   "metadata": {
    "collapsed": false
   },
   "outputs": [],
   "source": [
    "count = Counter()\n",
    "\n",
    "def word_count(l):\n",
    "    \"\"\"\n",
    "    takes a list and returns count of words\n",
    "    \"\"\"\n",
    "    for word in l:\n",
    "        count[word] += 1\n",
    "    return count"
   ]
  },
  {
   "cell_type": "code",
   "execution_count": 42,
   "metadata": {
    "collapsed": false
   },
   "outputs": [
    {
     "name": "stdout",
     "output_type": "stream",
     "text": [
      "[('like', 115720), ('would', 85580), ('felt', 84980), ('could', 69560), ('one', 65020), ('time', 64560), ('back', 61120), ('around', 52980), ('trip', 47460), ('started', 47440), ('get', 46260), ('really', 44680), ('got', 42820), ('went', 40700), ('feel', 40300), ('looked', 39840), ('thought', 39520), ('still', 38980), ('me.', 38760), ('go', 38640), ('seemed', 38000), ('going', 36560), ('see', 35500), ('began', 35440), ('everything', 35360), ('feeling', 34460), ('much', 32760), ('first', 32560), ('decided', 32080), ('even', 32000)]\n",
      "6909\n"
     ]
    }
   ],
   "source": [
    "print word_count(tokenised).most_common(30)\n"
   ]
  },
  {
   "cell_type": "code",
   "execution_count": 73,
   "metadata": {
    "collapsed": false
   },
   "outputs": [
    {
     "name": "stdout",
     "output_type": "stream",
     "text": [
      "[1620, 4365, 135, 14805, 1305, 180, 2880, 9315, 9450, 3240]\n"
     ]
    }
   ],
   "source": [
    "#make the list of spirit words - primarily taken from wikipedia\n",
    "\n",
    "spiritual_words = ['god', 'spirit', 'heaven', 'hell', 'universe','magic','atheist', 'creation', 'concious', 'exist']\n",
    "\n",
    "def specific_word_count(list_words, counter_object):\n",
    "    wc = {}\n",
    "    for w in list_words:\n",
    "        w_count = counter_object[w]\n",
    "        wc[w] = w_count\n",
    "    return wc\n",
    "\n",
    "spirit_count =  specific_word_count(spiritual_words, word_count(tokenised))\n",
    "        \n",
    "#print spirit_count\n",
    "\n",
    "print spirit_count.values()"
   ]
  },
  {
   "cell_type": "code",
   "execution_count": 74,
   "metadata": {
    "collapsed": false
   },
   "outputs": [
    {
     "data": {
      "image/png": "[encoded data removed]",
      "text/plain": [
       "<matplotlib.figure.Figure at 0xd60fda0>"
      ]
     },
     "metadata": {},
     "output_type": "display_data"
    }
   ],
   "source": [
    "#make a graph of the spirit words\n",
    "\n",
    "#display the results as bar plots\n",
    "\n",
    "%matplotlib inline\n",
    "\n",
    "\n",
    "plt.bar(range(len(spirit_count.values())), [x for x in spirit_count.values()], align=\"center\")\n",
    "plt.xticks(range(len(spirit_count.keys())), [x for x in spirit_count.keys()], rotation='vertical')\n",
    "#label the axis\n",
    "plt.ylabel('word count')\n",
    "plt.title('Spiritualism in pschadelics?')\n",
    "\n",
    "plt.show()\n"
   ]
  },
  {
   "cell_type": "code",
   "execution_count": null,
   "metadata": {
    "collapsed": true
   },
   "outputs": [],
   "source": []
  }
 ],
 "metadata": {
  "anaconda-cloud": {},
  "kernelspec": {
   "display_name": "Python [Root]",
   "language": "python",
   "name": "Python [Root]"
  },
  "language_info": {
   "codemirror_mode": {
    "name": "ipython",
    "version": 2
   },
   "file_extension": ".py",
   "mimetype": "text/x-python",
   "name": "python",
   "nbconvert_exporter": "python",
   "pygments_lexer": "ipython2",
   "version": "2.7.12"
  }
 },
 "nbformat": 4,
 "nbformat_minor": 0
}
