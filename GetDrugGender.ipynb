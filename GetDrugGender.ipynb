{
 "cells": [
  {
   "cell_type": "code",
   "execution_count": 1,
   "metadata": {
    "collapsed": true
   },
   "outputs": [],
   "source": [
    "from collections import Counter,defaultdict\n",
    "from bs4 import BeautifulSoup as bs\n",
    "from bs4 import Comment\n",
    "import os\n",
    "import glob\n",
    "import nltk\n",
    "import math\n",
    "import urllib2\n",
    "import time\n",
    "import numpy as np\n",
    "import progressbar\n",
    "from __future__ import division"
   ]
  },
  {
   "cell_type": "code",
   "execution_count": 4,
   "metadata": {
    "collapsed": false
   },
   "outputs": [],
   "source": [
    "path_to_folder = 'C:\\\\Users\\\\Isobel\\\\Documents\\\\auc\\\\textmining\\\\erowid_text'\n",
    "filenames = os.listdir(path_to_folder)\n",
    "\n",
    "test_files = filenames\n",
    "sample = filenames[:10]\n"
   ]
  },
  {
   "cell_type": "code",
   "execution_count": 7,
   "metadata": {
    "collapsed": false
   },
   "outputs": [],
   "source": [
    "#because of the fact that we downloaded the data to file, decided to make smaller dict \n",
    "# ref is the experience number (and therefore file name)\n",
    "# {ref {drug: gender}}\n",
    "\n",
    "def retrieve_drug_and_gender(folder):\n",
    "    \"\"\"\n",
    "    takes a folder and opens the files inside\n",
    "    then finds the foottable and extracts the gender\n",
    "    then finds the beginning table and extracts the drug   \n",
    "    \"\"\"\n",
    "    drug_dict = {}\n",
    "    #put this back os.listdir\n",
    "    for f in (folder):\n",
    "        drug_dict[f] = {}\n",
    "        open_file = open(path_to_folder + '//' + f, 'r')\n",
    "        bs_f = bs(open_file, \"lxml\")\n",
    "        #find the html table with the class footdata\n",
    "        # write a check for the table\n",
    "        if (bs_f.find(class_='footdata')):\n",
    "            #print \"yes\"\n",
    "            end_table = bs_f.find(class_='footdata')\n",
    "            rows = end_table.findAll('tr')\n",
    "            #print rows\n",
    "            #the gender is listed in the table data text as the 3rd element in the table\n",
    "            gender_in_table = [[td.text for td in tr.findAll(\"td\")] for tr in rows]\n",
    "            g = gender_in_table[1]\n",
    "            #clumsy function that takes the 0th element of the list from g  and partitions it to return the\n",
    "            #second substring\n",
    "            gender = g[0].partition(':')[2]\n",
    "            #get the table containing the drug information\n",
    "            drug_class = [td.find('a') for td in bs_f.findAll('td', {'class' : 'dosechart-substance'})]\n",
    "            #take a set of the list to remove duplicate entries\n",
    "            drug = set([drug.text for drug in drug_class if drug])\n",
    "            #convert to string to use in dict\n",
    "            # naiave way to remove unwanted characters from string\n",
    "            drug = str(drug).strip(\"set([\")\n",
    "            drug = str(drug).strip(\"])\")\n",
    "            drug = drug.lower()\n",
    "            #print drug\n",
    "            drug_dict[f][drug] = gender\n",
    "        else:\n",
    "            pass\n",
    "    return drug_dict\n",
    "\n",
    "#a list of genders and the drugs\n",
    "#data_set = retrieve_drug_and_gender(absolute_urls)\n",
    "\n",
    "test = retrieve_drug_and_gender(sample)\n",
    "#print test \n",
    "\n",
    "test_dict =  retrieve_drug_and_gender(test_files)"
   ]
  },
  {
   "cell_type": "code",
   "execution_count": 9,
   "metadata": {
    "collapsed": false
   },
   "outputs": [],
   "source": [
    "def count_gender(drug_gender_dict):\n",
    "    \"\"\"\n",
    "    takes output of retrieve_drug_and_gender and \n",
    "    returns a dict of theccount of each gender for each drug\n",
    "    \"\"\"\n",
    "    male_dict = {}\n",
    "    female_dict = {}\n",
    "    #select the second list in the item -> this is the part \n",
    "    #containing the information about gender\n",
    "    for i in drug_gender_dict.values():\n",
    "        for gender in i.values():\n",
    "            #if gender is male, male_count is + 1\n",
    "            if \"Male\" in gender:\n",
    "                # we need to add 1 to the count specific to that drug\n",
    "                #use a set to ensure no repetition of drug name in table\n",
    "                for drug in i.keys():\n",
    "                    if not drug in male_dict:\n",
    "                        #if the drug is not already a key in the dict, then the count is 1\n",
    "                        # as we havent seen it before\n",
    "                        male_dict[drug] = 1\n",
    "                    else:\n",
    "                        # the count is incremented by 1\n",
    "                        male_dict[drug] += 1\n",
    "            #add 1 to female count if the gender is female\n",
    "            if \"Female\" in gender:\n",
    "                #check that there is no repetition of the same drug in a single entry\n",
    "                for drug in i.keys():\n",
    "                    if not drug in female_dict:\n",
    "                        #the count is 1\n",
    "                        female_dict[drug] = 1 \n",
    "                    else:\n",
    "                        # the count is incremented by 1\n",
    "                        female_dict[drug] += 1\n",
    "            else:\n",
    "                #if gender is not specified, we ignore it\n",
    "                pass\n",
    "    return female_dict, male_dict"
   ]
  },
  {
   "cell_type": "code",
   "execution_count": 10,
   "metadata": {
    "collapsed": false
   },
   "outputs": [],
   "source": [
    "gender_count_tuple = count_gender(test_dict)"
   ]
  },
  {
   "cell_type": "code",
   "execution_count": 11,
   "metadata": {
    "collapsed": false
   },
   "outputs": [
    {
     "data": {
      "text/plain": [
       "<matplotlib.text.Text at 0x9ec46d8>"
      ]
     },
     "execution_count": 11,
     "metadata": {},
     "output_type": "execute_result"
    },
    {
     "data": {
      "image/png": "[encoded data removed]",
      "text/plain": [
       "<matplotlib.figure.Figure at 0x92d0780>"
      ]
     },
     "metadata": {},
     "output_type": "display_data"
    }
   ],
   "source": [
    "#display the results as bar plots\n",
    "\n",
    "%matplotlib inline\n",
    "import matplotlib.pyplot as plt\n",
    "\n",
    "\n",
    "#the first dict is female drug users\n",
    "female_drugs = gender_count_tuple[0]\n",
    "#clean the empty string values '' from the dict\n",
    "cleaned_female_drugs = {i:female_drugs[i] for i in female_drugs if i!=''}\n",
    "#the second dict is male drug users\n",
    "male_drugs = gender_count_tuple[1]\n",
    "#clean the empty string values from the dict\n",
    "cleaned_male_drugs = {i:male_drugs[i] for i in male_drugs if i!=''}\n",
    "\n",
    "#get the top 5 used drugs from male and female users useing the cleaned dicts\n",
    "top_female_drugs = Counter(cleaned_female_drugs).most_common(5)\n",
    "top_male_drugs = Counter(cleaned_male_drugs).most_common(100)\n",
    "'print top_male_drugs'\n",
    "\n",
    "#display the results as a bar chart\n",
    "#female drug users plotted onto a graph\n",
    "plt.bar(range(len(top_female_drugs)), [x[1] for x in top_female_drugs], align=\"center\")\n",
    "plt.xticks(range(len(top_female_drugs)), [x[0] for x in top_female_drugs], rotation='vertical')\n",
    "#label the axis\n",
    "plt.ylabel('amount of users')\n",
    "plt.title('Female drug users')\n",
    "\n",
    "#plt.show()\n",
    "\n",
    "#male drug users plotted onto a drug\n",
    "plt.bar(range(len(top_male_drugs)), [y[1] for y in top_male_drugs], align=\"center\")\n",
    "plt.xticks(range(len(top_male_drugs)), [y[0] for y in top_male_drugs], rotation='vertical')\n",
    "#label the axis \n",
    "plt.ylabel('amount of users')\n",
    "plt.title('Male drug users')\n",
    "\n",
    "#plt.show()\n",
    "\n",
    "#print set(male_drugs.keys())"
   ]
  },
  {
   "cell_type": "code",
   "execution_count": 20,
   "metadata": {
    "collapsed": false
   },
   "outputs": [],
   "source": [
    "from wordcloud import WordCloud\n",
    "from collections import Counter\n",
    "from nltk.corpus import stopwords \n",
    "\n",
    "stop_words = set(stopwords.words('english'))"
   ]
  },
  {
   "cell_type": "code",
   "execution_count": 9,
   "metadata": {
    "collapsed": true
   },
   "outputs": [],
   "source": [
    "#function to make clouds \n",
    "def make_cloud(text):\n",
    "    wordcloud = WordCloud(max_font_size=40, relative_scaling=.5).generate(text)  # Note that this is different from the code on the web! You must specify the font path\n",
    "    # Open a plot of the generated image.\n",
    "    plt.imshow(wordcloud)\n",
    "    plt.axis(\"off\")\n",
    "    return plt.show()"
   ]
  },
  {
   "cell_type": "code",
   "execution_count": 15,
   "metadata": {
    "collapsed": false
   },
   "outputs": [
    {
     "name": "stdout",
     "output_type": "stream",
     "text": [
      "['tryptamines', 'alkylated', 'psilocin', 'psilocybe', 'psilocybin', 'psilocybe', 'dephosphorylation', 'bufotenin', 'psychoactive toads', 'baeocystin', 'psilocybe', 'aeruginascin', 'inocybe aeruginascens', '5-meo-dmt', 'psychoactive toads', 'demethylation', 'n,n-dimethyltryptamine', 'ayahuasca', 'trace amine', '5-bromo-dmt', 'invertebrates', 'n-methyl-n-ethyltryptamine', 'n-methyl-n-isopropyltryptamine', 'methyl-n-propyltryptamine', 'n,n-diethyltryptamine', 'n-ethyl-n-isopropyltryptamine', 'n-methyl-n-butyltryptamine', 'n-propyl-n-isopropyltryptamine', 'n,n-dipropyltryptamine', 'n,n-diisopropyltryptamine', 'n,n-diallyltryptamine', 'n,n-dibutyltryptamine', 'n-ethyltryptamine', 'n-methyltryptamine', 'trimethyltryptamine', '2,n,n-tmt', '5,n,n-tmt', '7,n,n-tmt', '\\xce\\xb1-methyltryptamine', '\\xce\\xb1-ethyltryptamine', '\\xce\\xb1,n-dmt', '\\xce\\xb1,n,n-trimethyltryptamine', 'ethocybin', '4-ho-met', '4-ho-det', '4-ho-mpt', '4-ho-mipt', '4-ho-malt', '4-ho-dpt', '4-ho-dipt', '4-ho-dalt', '4-ho-dbt', '4-ho-dsbt', '4-ho-\\xce\\xb1mt', '4-ho-mpmi', '4-ho-1,n,n-tmt', '4-ho-5-meo-dmt', '4-aco-dmt', 'deacetylation', '4-aco-met', '4-aco-mipt', '4-aco-malt', '4-aco-det', '4-aco-eipt', '4-aco-dpt', '4-aco-dipt', '4-aco-dalt', '4-meo-dmt', '4-meo-mipt', '5-meo-nmt', '5-meo-met', '5-meo-mpt', '5-meo-mipt', '5-meo-malt', '5-meo-det', '5-meo-eipt', '5-meo-ept', '5-meo-pipt', '5-meo-dpt', '5-meo-dipt', '5-meo-dalt', '5-meo-\\xce\\xb1mt', '5-meo-\\xce\\xb1et', '5-meo-mpmi', '5-meo-2,n,n-tmt', '5-meo-7,n,n-tmt', '5-meo-a,n-dmt', '1-methyl-5-meo-dipt', '4-f-5-meo-dmt', '5-mes-dmt', '5-me-mipt', '5-ho-dipt', '2-\\xce\\xb1-dmt', '2-me-det', '4-me-\\xce\\xb1mt', '4-me-\\xce\\xb1et', '7-me-\\xce\\xb1et', '4,5-dhp-amt', '4,5-dhp-dmt', '4,5-mdo-dmt', '4,5-mdo-dipt', '5,6-mdo-dipt', '5,6-mdo-mipt', '5-fluoro-\\xce\\xb1mt', '6-fluoro-\\xce\\xb1mt', '6-fluoro-dmt', 'n,n-tetramethylenetryptamine', '4-ho-pyr-t', '5-meo-pyr-t', 'ru-28306', 'o-4310', 'cp-132,484', 'benzofuran', 'dimemebfe', '5-meo-dibf', 'ibogaine', 'iboga', 'dissociative', 'voacangine', 'iboga', 'ergolines', 'lysergamides', 'lysergic acid diethylamide', 'lysergic acid amide', 'morning glory', 'hawaiian baby woodrose', 'n1-methyl-lysergic acid diethylamide', 'n-acetyl-lysergic acid diethylamide', '1-propionyl-lysergic acid diethylamide', 'hydrolyzation', '6-allyl-6-nor-lysergic acid diethylamide', '6-butyl-6-nor-lysergic acid diethylamide', '6-ethyl-6-nor-lysergic acid diethylamide', '1-propionyl-6-ethyl-6-nor-lysergic acid diethylamide', '6-propyl-6-nor-lysergic acid diethylamide', '6-cyclopropyl-6-nor-lysergic acid diethylamide', '6-nor-lysergic acid diethylamide', 'lysergic acid ethylamide', 'lysergic acid \\xce\\xb1-hydroxyethylamide', 'morning glory', 'lysergic acid 2-butyl amide', 'lysergic acid 3-pentyl amide', 'lysergic acid methyl ester', 'lysergic acid 2,4-dimethylazetidide', 'lysergic acid piperidine', 'n,n-dimethyl-lysergamide', 'methylisopropyllysergamide', 'n,n-diallyllysergamide', 'n-pyrrolidyllysergamide', 'n-morpholinyllysergamide', '1-methyl-lysergic acid butanolamide', 'lysergic acid \\xce\\xb2-propanolamide', 'morning glory', 'ergot', 'lysergic acid 1-butanolamide', 'morning glory', 'ergot', 'tryptamines', 'alkylated', 'psilocin', 'psilocybe', 'psilocybin', 'psilocybe', 'dephosphorylation', 'bufotenin', 'psychoactive toads', 'baeocystin', 'psilocybe', 'aeruginascin', 'inocybe aeruginascens', '5-meo-dmt', 'psychoactive toads', 'demethylation', 'n,n-dimethyltryptamine', 'ayahuasca', 'trace amine', '5-bromo-dmt', 'invertebrates', 'n-methyl-n-ethyltryptamine', 'n-methyl-n-isopropyltryptamine', 'methyl-n-propyltryptamine', 'n,n-diethyltryptamine', 'n-ethyl-n-isopropyltryptamine', 'n-methyl-n-butyltryptamine', 'n-propyl-n-isopropyltryptamine', 'n,n-dipropyltryptamine', 'n,n-diisopropyltryptamine', 'n,n-diallyltryptamine', 'n,n-dibutyltryptamine', 'n-ethyltryptamine', 'n-methyltryptamine', 'trimethyltryptamine', '2,n,n-tmt', '5,n,n-tmt', '7,n,n-tmt', '\\xce\\xb1-methyltryptamine', '\\xce\\xb1-ethyltryptamine', '\\xce\\xb1,n-dmt', '\\xce\\xb1,n,n-trimethyltryptamine', 'ethocybin', '4-ho-met', '4-ho-det', '4-ho-mpt', '4-ho-mipt', '4-ho-malt', '4-ho-dpt', '4-ho-dipt', '4-ho-dalt', '4-ho-dbt', '4-ho-dsbt', '4-ho-\\xce\\xb1mt', '4-ho-mpmi', '4-ho-1,n,n-tmt', '4-ho-5-meo-dmt', '4-aco-dmt', 'deacetylation', '4-aco-met', '4-aco-mipt', '4-aco-malt', '4-aco-det', '4-aco-eipt', '4-aco-dpt', '4-aco-dipt', '4-aco-dalt', '4-meo-dmt', '4-meo-mipt', '5-meo-nmt', '5-meo-met', '5-meo-mpt', '5-meo-mipt', '5-meo-malt', '5-meo-det', '5-meo-eipt', '5-meo-ept', '5-meo-pipt', '5-meo-dpt', '5-meo-dipt', '5-meo-dalt', '5-meo-\\xce\\xb1mt', '5-meo-\\xce\\xb1et', '5-meo-mpmi', '5-meo-2,n,n-tmt', '5-meo-7,n,n-tmt', '5-meo-a,n-dmt', '1-methyl-5-meo-dipt', '4-f-5-meo-dmt', '5-mes-dmt', '5-me-mipt', '5-ho-dipt', '2-\\xce\\xb1-dmt', '2-me-det', '4-me-\\xce\\xb1mt', '4-me-\\xce\\xb1et', '7-me-\\xce\\xb1et', '4,5-dhp-amt', '4,5-dhp-dmt', '4,5-mdo-dmt', '4,5-mdo-dipt', '5,6-mdo-dipt', '5,6-mdo-mipt', '5-fluoro-\\xce\\xb1mt', '6-fluoro-\\xce\\xb1mt', '6-fluoro-dmt', 'n,n-tetramethylenetryptamine', '4-ho-pyr-t', '5-meo-pyr-t', 'ru-28306', 'o-4310', 'cp-132,484', 'psilocin', 'psilocybe', 'psilocybin', 'psilocybe', 'dephosphorylation', 'bufotenin', 'psychoactive toads', 'baeocystin', 'psilocybe', 'aeruginascin', 'inocybe aeruginascens', '5-meo-dmt', 'psychoactive toads', 'demethylation', 'n,n-dimethyltryptamine', 'ayahuasca', 'trace amine', '5-bromo-dmt', 'invertebrates', 'n-methyl-n-ethyltryptamine', 'n-methyl-n-isopropyltryptamine', 'methyl-n-propyltryptamine', 'n,n-diethyltryptamine', 'n-ethyl-n-isopropyltryptamine', 'n-methyl-n-butyltryptamine', 'n-propyl-n-isopropyltryptamine', 'n,n-dipropyltryptamine', 'n,n-diisopropyltryptamine', 'n,n-diallyltryptamine', 'n,n-dibutyltryptamine', 'n-ethyltryptamine', 'n-methyltryptamine', 'trimethyltryptamine', '2,n,n-tmt', '5,n,n-tmt', '7,n,n-tmt', '\\xce\\xb1-methyltryptamine', '\\xce\\xb1-ethyltryptamine', '\\xce\\xb1,n-dmt', '\\xce\\xb1,n,n-trimethyltryptamine', 'ethocybin', '4-ho-met', '4-ho-det', '4-ho-mpt', '4-ho-mipt', '4-ho-malt', '4-ho-dpt', '4-ho-dipt', '4-ho-dalt', '4-ho-dbt', '4-ho-dsbt', '4-ho-\\xce\\xb1mt', '4-ho-mpmi', '4-ho-1,n,n-tmt', '4-ho-5-meo-dmt', '4-aco-dmt', 'deacetylation', '4-aco-met', '4-aco-mipt', '4-aco-malt', '4-aco-det', '4-aco-eipt', '4-aco-dpt', '4-aco-dipt', '4-aco-dalt', '4-meo-dmt', '4-meo-mipt', '5-meo-nmt', '5-meo-met', '5-meo-mpt', '5-meo-mipt', '5-meo-malt', '5-meo-det', '5-meo-eipt', '5-meo-ept', '5-meo-pipt', '5-meo-dpt', '5-meo-dipt', '5-meo-dalt', '5-meo-\\xce\\xb1mt', '5-meo-\\xce\\xb1et', '5-meo-mpmi', '5-meo-2,n,n-tmt', '5-meo-7,n,n-tmt', '5-meo-a,n-dmt', '1-methyl-5-meo-dipt', '4-f-5-meo-dmt', '5-mes-dmt', '5-me-mipt', '5-ho-dipt', '2-\\xce\\xb1-dmt', '2-me-det', '4-me-\\xce\\xb1mt', '4-me-\\xce\\xb1et', '7-me-\\xce\\xb1et', '4,5-dhp-amt', '4,5-dhp-dmt', '4,5-mdo-dmt', '4,5-mdo-dipt', '5,6-mdo-dipt', '5,6-mdo-mipt', '5-fluoro-\\xce\\xb1mt', '6-fluoro-\\xce\\xb1mt', '6-fluoro-dmt', 'n,n-tetramethylenetryptamine', '4-ho-pyr-t', '5-meo-pyr-t', 'ru-28306', 'o-4310', 'cp-132,484', 'benzofuran', 'dimemebfe', '5-meo-dibf', 'dimemebfe', '5-meo-dibf', 'ibogaine', 'iboga', 'dissociative', 'voacangine', 'iboga', 'ibogaine', 'iboga', 'dissociative', 'voacangine', 'iboga', 'ergolines', 'lysergamides', 'lysergic acid diethylamide', 'lysergic acid amide', 'morning glory', 'hawaiian baby woodrose', 'n1-methyl-lysergic acid diethylamide', 'n-acetyl-lysergic acid diethylamide', '1-propionyl-lysergic acid diethylamide', 'hydrolyzation', '6-allyl-6-nor-lysergic acid diethylamide', '6-butyl-6-nor-lysergic acid diethylamide', '6-ethyl-6-nor-lysergic acid diethylamide', '1-propionyl-6-ethyl-6-nor-lysergic acid diethylamide', '6-propyl-6-nor-lysergic acid diethylamide', '6-cyclopropyl-6-nor-lysergic acid diethylamide', '6-nor-lysergic acid diethylamide', 'lysergic acid ethylamide', 'lysergic acid \\xce\\xb1-hydroxyethylamide', 'morning glory', 'lysergic acid 2-butyl amide', 'lysergic acid 3-pentyl amide', 'lysergic acid methyl ester', 'lysergic acid 2,4-dimethylazetidide', 'lysergic acid piperidine', 'n,n-dimethyl-lysergamide', 'methylisopropyllysergamide', 'n,n-diallyllysergamide', 'n-pyrrolidyllysergamide', 'n-morpholinyllysergamide', '1-methyl-lysergic acid butanolamide', 'lysergic acid \\xce\\xb2-propanolamide', 'morning glory', 'ergot', 'lysergic acid 1-butanolamide', 'morning glory', 'ergot', 'lysergic acid diethylamide', 'lysergic acid amide', 'morning glory', 'hawaiian baby woodrose', 'n1-methyl-lysergic acid diethylamide', 'n-acetyl-lysergic acid diethylamide', '1-propionyl-lysergic acid diethylamide', 'hydrolyzation', '6-allyl-6-nor-lysergic acid diethylamide', '6-butyl-6-nor-lysergic acid diethylamide', '6-ethyl-6-nor-lysergic acid diethylamide', '1-propionyl-6-ethyl-6-nor-lysergic acid diethylamide', '6-propyl-6-nor-lysergic acid diethylamide', '6-cyclopropyl-6-nor-lysergic acid diethylamide', '6-nor-lysergic acid diethylamide', 'lysergic acid ethylamide', 'lysergic acid \\xce\\xb1-hydroxyethylamide', 'morning glory', 'lysergic acid 2-butyl amide', 'lysergic acid 3-pentyl amide', 'lysergic acid methyl ester', 'lysergic acid 2,4-dimethylazetidide', 'lysergic acid piperidine', 'n,n-dimethyl-lysergamide', 'methylisopropyllysergamide', 'n,n-diallyllysergamide', 'n-pyrrolidyllysergamide', 'n-morpholinyllysergamide', '1-methyl-lysergic acid butanolamide', 'lysergic acid \\xce\\xb2-propanolamide', 'morning glory', 'ergot', 'lysergic acid 1-butanolamide', 'morning glory', 'ergot', 'phenethylamines', 'alkoxylated', 'mescaline', 'peyote', 'san pedro', 'lophophine', 'peyote', 'san pedro', 'isomescaline', 'cyclopropylmescaline', 'thioisomescaline', '4-desoxymescaline', 'jimscaline', 'escaline', 'metaescaline', 'thiometaescaline', 'trisescaline', 'thiotrisescaline', 'symbescaline', 'asymbescaline', 'thiosymbescaline', 'phenescaline', 'allylescaline', 'methallylescaline', 'proscaline', 'isoproscaline', 'metaproscaline', 'thioproscaline', 'buscaline', 'thiobuscaline', '\\xce\\xb1-ethylmescaline', 'ariadne', 'macromerine', 'mepea', 'tom', 'bis-tom', 'tomso', 'toet', 'boh', 'bom', '\\xce\\xb2-d', '4-d', 'dme', 'f-2', 'f-22', 'flea', 'mdph', 'mdmp', 'propynyl', '2c family', '\\xce\\xb2k-2c-b', '2c-b', '2c-b-fly', '2c-b-butterfly', '2c-c', '2c-d', '2cd-5eto', '2c-e', '2c-ef', '2c-f', '2c-g', '2c-h', '2c-i', '2c-ip', '2c-n', '2c-o', '2c-o-4', '2c-p', '2c-se', '2c-t', '2c-t-2', '2ct-2-5eto', '2c-t-4', '\\xce\\xa8-2c-t-4', '2c-t-7', '2c-t-8', '2c-t-13', '2c-t-15', '2c-t-17', '2c-t-19', '2c-t-21', '2c-tfm', '2c-yn', 'bob', 'bod', 'bohd', 'hot-2', 'hot-7', 'hot-17', '2cb-ind', '2c-bcb', 'nbome-mescaline', '2c-h-nbome', '2c-c-nbome', '2cbcb-nbome', '2cbfly-nbome', '2c-b-nbome', '2c-i-nbome', '2c-tfm-nbome', '2c-d-nbome', '2c-g-nbome', '2c-e-nbome', '2c-p-nbome', '2c-ip-nbome', '2c-cn-nbome', '2c-n-nbome', '2c-t-nbome', '2c-t-4-nbome', '2c-t-7-nbome', 'dmbmpp', '2c-c-nboh', '2c-b-nboh', '2c-i-nboh', '2c-cn-nboh', '2c-i-nbmd', '2c-c-nbf', '2c-b-nbf', '2c-i-nbf', 'amphetamines', '3c-e', '3c-p', '3c-dfe', '3c-bz', 'dox', 'doam', 'dob', 'meta-dob', 'methyl-dob', 'dobu', 'doc', 'doef', 'doet', 'doi', 'dom', '\\xce\\xa8-dom', 'don', 'dopr', 'doipr', 'dot', 'meta-dot', 'ortho-dot', 'dotfm', 'dmcpa', 'dmmda', 'dmmda-2', '2,5-dimethoxy-3,4-dimethylamphetamine', '4-methyl-2,5-dimethoxymethamphetamine', '2,n-dimethyl-4,5-methylenedioxyamphetamine', 'dimethoxyamphetamine', 'trimethoxyamphetamine', 'tetramethoxyamphetamine', 'br-dragonfly', 'tfmfly', '2-bromo-4,5-methylenedioxyamphetamine', '4-bromo-3,5-dimethoxyamphetamine', 'eee', 'eem', 'eme', 'emm', 'edma', 'eida', 'ethyl-j', 'methyl-j', 'ethyl-k', 'methyl-k', 'idnna', 'iris', 'mdai', 'mdmai', 'mdat', 'mdmat', 'mdal', 'mdbu', 'mdbz', 'mddm', 'mdip', 'mdmeoet', 'mdmeo', 'mdoh', 'mdhoet', 'mdpl', 'mdcpm', 'mdpr', 'meda', 'mem', 'methyl-dma', 'mmda', 'mmda-2', '5-methyl-mda', 'mee', 'mme', 'mpm', 'difmda', '5-apb', '6-apb', '5-apdb', '6-apdb', '5-mapb', '5-mapdb', '6-mapdb', '6-mapb', '6-eapb', '5-eapb', 'para-methoxyamphetamine', 'paramethoxymethamphetamine', '4-ethylamphetamine', '3-methoxy-4-methylamphetamine', '4-methylmethamphetamine', '4-methylthioamphetamine', '4-fluoroamphetamine', 'norfenfluramine', 'para-iodoamphetamine', 'para-chloroamphetamine', 'mescaline', 'peyote', 'san pedro', 'lophophine', 'peyote', 'san pedro', 'isomescaline', 'cyclopropylmescaline', 'thioisomescaline', '4-desoxymescaline', 'jimscaline', 'escaline', 'metaescaline', 'thiometaescaline', 'trisescaline', 'thiotrisescaline', 'symbescaline', 'asymbescaline', 'thiosymbescaline', 'phenescaline', 'allylescaline', 'methallylescaline', 'proscaline', 'isoproscaline', 'metaproscaline', 'thioproscaline', 'buscaline', 'thiobuscaline', '\\xce\\xb1-ethylmescaline', 'ariadne', 'macromerine', 'mepea', 'tom', 'bis-tom', 'tomso', 'toet', 'boh', 'bom', '\\xce\\xb2-d', '4-d', 'dme', 'f-2', 'f-22', 'flea', 'mdph', 'mdmp', 'propynyl', '2c family', '\\xce\\xb2k-2c-b', '2c-b', '2c-b-fly', '2c-b-butterfly', '2c-c', '2c-d', '2cd-5eto', '2c-e', '2c-ef', '2c-f', '2c-g', '2c-h', '2c-i', '2c-ip', '2c-n', '2c-o', '2c-o-4', '2c-p', '2c-se', '2c-t', '2c-t-2', '2ct-2-5eto', '2c-t-4', '\\xce\\xa8-2c-t-4', '2c-t-7', '2c-t-8', '2c-t-13', '2c-t-15', '2c-t-17', '2c-t-19', '2c-t-21', '2c-tfm', '2c-yn', 'bob', 'bod', 'bohd', 'hot-2', 'hot-7', 'hot-17', '2cb-ind', '2c-bcb', 'nbome-mescaline', '2c-h-nbome', '2c-c-nbome', '2cbcb-nbome', '2cbfly-nbome', '2c-b-nbome', '2c-i-nbome', '2c-tfm-nbome', '2c-d-nbome']\n"
     ]
    }
   ],
   "source": [
    "#parent url\n",
    "wikipedia_url = \"https://en.wikipedia.org/wiki/List_of_psychedelic_drugs\"\n",
    "\n",
    "def read_links(start_page):\n",
    "    \"\"\"\n",
    "    takes a url and returns the links on that page\n",
    "    \"\"\"\n",
    "    tags = []\n",
    "    response = urllib2.urlopen(start_page)\n",
    "    #convert to soup in order to strain out the anchors and the urls\n",
    "    soup = bs(response.read(), \"lxml\")\n",
    "    text = soup.encode(\"utf-8\",'ignore')\n",
    "    psychedelics = soup.find(id=\"Serotonergic_psychedelics_.28serotonin_5-HT2A_receptor_agonists.29\")\n",
    "    drugs = soup.findAll('a')\n",
    "    for ultag in soup.find_all('ul'):\n",
    "        for litag in ultag.find_all('li'):\n",
    "            for atag in litag.find_all('a'):\n",
    "                tags.append(str(atag.text.encode(\"utf-8\", 'ignore')).lower())\n",
    "    return tags\n",
    "\n",
    "    \n",
    "    \n",
    "drug_list = read_links(wikipedia_url)\n",
    "\n",
    "#<span class=\"mw-headline\" id=\"Empathogens.2Fentactogens_.28serotonin_.285-HT.29_releasing_agents.29\"><a href=\"/wiki/Empathogen-entactogen\" title=\"Empathogen-entactogen\">Empathogens/entactogens</a> <i>(<a href=\"/wiki/Serotonin_releasing_agent\" title=\"Serotonin releasing agent\">serotonin (5-HT) releasing agents</a>)</i></span>\n",
    "\n",
    "#print drug_list[:130]\n",
    "\n",
    "list_index = drug_list.index('tryptamines')\n",
    "#endpoint = drug_list.index('MDMA')\n",
    "#print endpoint\n",
    "start_point = drug_list[list_index:]\n",
    "\n",
    "end = drug_list.index('para-chloroamphetamine')\n",
    "\n",
    "drug_list_full = start_point[:end]\n",
    "\n",
    "print drug_list_full"
   ]
  },
  {
   "cell_type": "code",
   "execution_count": 118,
   "metadata": {
    "collapsed": false
   },
   "outputs": [
    {
     "name": "stdout",
     "output_type": "stream",
     "text": [
      "<type 'str'>\n",
      "u'5-MeO-DMT'\n",
      "<type 'str'>\n",
      "u'Cannabis'\n"
     ]
    }
   ],
   "source": [
    "p_drugs = ['LSD', 'Mushrooms', 'Salvia divinorum', 'DXM', '2C-I', 'Cacti - T. pachanoi', 'Ayahuasca', 'H.B. Woodrose', 'Mushrooms - P. cubensis', 'DMT', 'Datura', 'Morning Glory', 'Kratom', '2C-E', 'DPT', 'AMT', '25I-NBOMe', 'Syrian Rue']\n",
    "\n",
    "'''print [type(i[1].keys()) for i in test_dict.items()[:2]]'''\n",
    "\n",
    "for i in test_dict.items()[:2]:\n",
    "    for e in i[1].keys():\n",
    "        print type(e)\n",
    "        print e"
   ]
  },
  {
   "cell_type": "code",
   "execution_count": 18,
   "metadata": {
    "collapsed": false,
    "scrolled": true
   },
   "outputs": [
    {
     "name": "stdout",
     "output_type": "stream",
     "text": [
      "check duplicates\n",
      "lsd list\n",
      "['35237', '35237', '35237', '73393', '35549', '35549', '35549', '35549', '35549', '35549']\n",
      "non pschoactive id\n",
      "['35234', '35235', '35546', '73397', '35542', '35238', '101767', '11541', '101768', '55292']\n"
     ]
    }
   ],
   "source": [
    "\"\"\"\n",
    "psychadelic drugs were selected acording to http://psychedelics.com/psychedelics-definition/psychedelic-drug-list/\n",
    "\"\"\"\n",
    "\n",
    "def find_LSD(in_dict, drug_list):\n",
    "    \"\"\"\n",
    "    takes a dict and converts it to it's items (a tuple)\n",
    "    if the desired drug is in the second part of the tuple\n",
    "    we return the first part of the tuple\n",
    "    which is the ID\"\"\"\n",
    "    ID = []\n",
    "    item = in_dict.items()\n",
    "    for i in item:\n",
    "        # print \"item\"\n",
    "        # print i\n",
    "        for e in i[1].keys():\n",
    "            # print \"string\"\n",
    "            # print e \n",
    "            for d in drug_list:\n",
    "                # print \"d\"\n",
    "                # print d\n",
    "                if d in e:\n",
    "                    # print \"d found in e\"\n",
    "                    # print e \n",
    "                    key_id = i[0]\n",
    "                    ID.append(key_id)\n",
    "    return ID\n",
    "\n",
    "# get the first element of the tuple \n",
    "LSD_LIST = find_LSD(test_dict, drug_list_full)\n",
    "# rest_data_list = find_LSD(test_dict, p_drugs)[1]\n",
    "\n",
    "LSD_ID = set(LSD_LIST)\n",
    "\n",
    "list_of_id = (test_dict.keys())\n",
    "\n",
    "def get_rest_id(list_id, list_p_id):\n",
    "    rest_id = []\n",
    "    for drug_id in list_id:\n",
    "        #print \"drug id\"\n",
    "        #print drug_id\n",
    "        if drug_id in list_p_id:\n",
    "            pass\n",
    "        else:\n",
    "            rest_id.append(drug_id)\n",
    "    return rest_id\n",
    "\n",
    "non_psychoactive_id = (get_rest_id(list_of_id, LSD_ID))\n",
    "\n",
    "rest_data = set(non_psychoactive_id)\n",
    "# check if duplicates\n",
    "print \"check duplicates\"\n",
    "#print [i for i in rest_data if i == e for e in LSD_ID]\n",
    "print \"lsd list\"\n",
    "print LSD_LIST[:10]\n",
    "print\"non pschoactive id\"\n",
    "print non_psychoactive_id[:10]\n",
    "\n",
    "# print \"rest\"\n",
    "# print rest_data\n",
    "\n",
    "# print [i for i in LSD_ID if i == e in rest_data]\n",
    "\n",
    "# try_this = [i for i in LSD_ID if i != list_of_id]\n",
    "# print \"trial\"\n",
    "# print try_this\n",
    "# print \"test\"\n",
    "# print [i for i in LSD_ID if i == e in try_this]"
   ]
  },
  {
   "cell_type": "code",
   "execution_count": 21,
   "metadata": {
    "collapsed": false
   },
   "outputs": [
    {
     "name": "stdout",
     "output_type": "stream",
     "text": [
      "psychoactives tokenised\n",
      "['belong', 'psychedelics', 'club', 'ideally', 'meets', 'last', 'saturday', 'every', 'month', 'try']\n",
      "amount of pyschoactive words\n",
      "2692980\n",
      "rest\n",
      "['one', 'people', 'definitely', \"'his\", 'head', \"straight.'\", 'get', 'good', 'grades', 'school,']\n",
      "amount of rest_tokenised words\n",
      "7183684\n"
     ]
    }
   ],
   "source": [
    "def clean_text(list_of_id):\n",
    "    no_stop_words = []\n",
    "    l = []\n",
    "    for i in list_of_id:\n",
    "        \"\"\"\n",
    "        takes a list of drug ids and opens the corresponding files\n",
    "        then returns the cleaned and tokenised message\n",
    "        \"\"\"\n",
    "        open_file = open(path_to_folder + '//' + i, 'r')\n",
    "        text = open_file.read()\n",
    "        #extract the txt after the <!-- Start Body --> comment\n",
    "        body = text.partition('<!-- Start Body -->')[2]\n",
    "        #extract text before <!-- End Body --> comment\n",
    "        message = body.partition('<!-- End Body -->')[0]\n",
    "        #lower case and remove the <br>\n",
    "        message = message.lower()\n",
    "        no_br = message.replace('<br>', '')\n",
    "        no_slash_br = no_br.replace('<br/>', '')\n",
    "        #remove stop words\n",
    "        no_stop_words = [w for w in no_slash_br.split() if w not in stop_words]\n",
    "        l.extend(no_stop_words)\n",
    "    return l\n",
    "        \n",
    "print \"psychoactives tokenised\"\n",
    "tokenised = clean_text(LSD_ID)\n",
    "print tokenised[:10]\n",
    "print \"amount of pyschoactive words\"\n",
    "print len(tokenised)\n",
    "\"\"\"\n",
    "the rest of the data is also cleaned\n",
    "\"\"\"\n",
    "rest_tokenised = clean_text(non_psychoactive_id)\n",
    "print \"rest\"\n",
    "print rest_tokenised[:10]\n",
    "print \"amount of rest_tokenised words\"\n",
    "print len(rest_tokenised)"
   ]
  },
  {
   "cell_type": "code",
   "execution_count": 22,
   "metadata": {
    "collapsed": false
   },
   "outputs": [],
   "source": [
    "count = Counter()\n",
    "\n",
    "def word_count(l):\n",
    "    \"\"\"\n",
    "    takes a list and returns count of words\n",
    "    \"\"\"\n",
    "    for word in l:\n",
    "        count[word] += 1\n",
    "    return count"
   ]
  },
  {
   "cell_type": "code",
   "execution_count": 23,
   "metadata": {
    "collapsed": false
   },
   "outputs": [
    {
     "name": "stdout",
     "output_type": "stream",
     "text": [
      "[('like', 21574), ('would', 16182), ('felt', 14629), ('feel', 13081), ('time', 12815), ('one', 11601), ('could', 10850), ('still', 10527), ('get', 10128), ('around', 9554), ('back', 9516), ('feeling', 9428), ('much', 9273), ('really', 9130), ('experience', 8096), ('-', 7683), ('first', 7391), (\"i'm\", 7281), ('take', 7186), ('took', 7016), ('go', 6953), ('got', 6889), ('little', 6862), ('even', 6740), ('trip', 6637), ('started', 6565), ('went', 6253), ('also', 6194), ('effects', 6138), ('it.', 6107)]\n",
      "[('like', 82495), ('would', 59527), ('felt', 57569), ('time', 47199), ('one', 46088), ('could', 43246), ('feel', 42560), ('get', 38312), ('back', 38013), ('still', 35044), ('around', 33923), ('feeling', 33451), ('really', 33200), ('much', 31025), ('got', 28538), ('first', 28460), ('started', 28161), ('experience', 27944), ('took', 26410), ('went', 26259), ('go', 25495), ('even', 25393), ('little', 24582), (\"i'm\", 24122), ('it.', 23869), ('take', 23632), ('-', 23576), ('going', 23525), ('me.', 22746), ('trip', 21723)]\n"
     ]
    }
   ],
   "source": [
    "print word_count(tokenised).most_common(30)\n",
    "print word_count(rest_tokenised).most_common(30)"
   ]
  },
  {
   "cell_type": "code",
   "execution_count": 24,
   "metadata": {
    "collapsed": false,
    "scrolled": true
   },
   "outputs": [
    {
     "name": "stdout",
     "output_type": "stream",
     "text": [
      "{'heaven': 422, 'magic': 1194, 'concious': 72, 'god': 3362, 'creation': 287, 'atheist': 57, 'exist': 826, 'universe': 2687, 'hell': 3354, 'spirit': 1389}\n",
      "{'heaven': 684, 'magic': 1970, 'concious': 118, 'god': 5530, 'creation': 454, 'atheist': 90, 'exist': 1342, 'universe': 4234, 'hell': 5470, 'spirit': 2192}\n",
      "psychodelics\n",
      "[156.7037259838543, 443.3749972149812, 26.73618073658178, 1248.4311060609436, 106.57338710276349, 21.166143083127242, 306.7234067835632, 997.7794116554895, 1245.4604193124344, 515.78548670989]\n",
      "rest\n",
      "[95.21576951324697, 274.23255254546274, 16.426112284449037, 769.8000079068065, 63.1987709927107, 12.528390725427231, 186.8122261502594, 589.3911814606545, 761.4477474231884, 305.1359163348499]\n"
     ]
    }
   ],
   "source": [
    "#make the list of spirit words - primarily taken from wikipedia\n",
    "\n",
    "spiritual_words = ['god', 'spirit', 'heaven', 'hell', 'universe','magic','atheist', 'creation', 'concious', 'exist']\n",
    "\n",
    "def specific_word_count(list_words, counter_object):\n",
    "    wc = {}\n",
    "    for w in list_words:\n",
    "        w_count = counter_object[w]\n",
    "        wc[w] = w_count\n",
    "    return wc\n",
    "\n",
    "spirit_count =  specific_word_count(spiritual_words, word_count(tokenised))\n",
    "rest_spirit_count = specific_word_count(spiritual_words, word_count(rest_tokenised))\n",
    "        \n",
    "\n",
    "print spirit_count\n",
    "print rest_spirit_count\n",
    "\n",
    "\n",
    "\"\"\"\n",
    "acorrding to https://www.lancaster.ac.uk/fss/courses/ling/corpus/blue/l05_3.htm\n",
    "word frequency is often normalised by Frequency per million words = ( frequency ÷ text no. words ) x 1,000,000 \n",
    "\"\"\"\n",
    "amount_psychoactive_words = len(tokenised)\n",
    "amount_non_psychoactives = len(rest_tokenised)\n",
    "\n",
    "#the observed normalised frequency of spiritual words in pyschadelic drugs\n",
    "print \"psychodelics\"\n",
    "normalised_frequency = [(v/amount_psychoactive_words)*1000000 for v in spirit_count.values()]\n",
    "print normalised_frequency\n",
    "#the expected normalised frequency words accross other drugs\n",
    "print \"rest\"\n",
    "rest_normalised_frequency = [(v/amount_non_psychoactives)*1000000 for v in rest_spirit_count.values()]\n",
    "print rest_normalised_frequency\n"
   ]
  },
  {
   "cell_type": "code",
   "execution_count": 17,
   "metadata": {
    "collapsed": false,
    "scrolled": true
   },
   "outputs": [],
   "source": [
    "#make a graph of the spirit words\n",
    "\n",
    "#display the results as bar plots\n",
    "%matplotlib qt \n",
    "\n",
    "\n",
    "plt.bar(range(len(spirit_count.values())), [x for x in spirit_count.values()], align=\"center\")\n",
    "plt.xticks(range(len(spirit_count.keys())), [x for x in spirit_count.keys()], rotation='vertical')\n",
    "#label the axis\n",
    "plt.ylabel('word count')\n",
    "plt.title('Spiritualism in pschadelics?')\n",
    "\n",
    "plt.show()\n"
   ]
  },
  {
   "cell_type": "code",
   "execution_count": null,
   "metadata": {
    "collapsed": true
   },
   "outputs": [],
   "source": [
    "import pandas as pd"
   ]
  },
  {
   "cell_type": "code",
   "execution_count": null,
   "metadata": {
    "collapsed": false
   },
   "outputs": [],
   "source": [
    "\"\"\"\n",
    "we make a panda from the spirit count, which a dictionary of the spiritual words in the reports\n",
    "\"\"\"\n",
    "psychadelic_panda = pd.DataFrame.from_dict(spirit_count, orient='index')\n",
    "rest_panda = pd.DataFrame.from_dict(rest_spirit_count, orient='index')\n",
    "\n",
    "print psychadelic_panda\n"
   ]
  },
  {
   "cell_type": "code",
   "execution_count": 25,
   "metadata": {
    "collapsed": false
   },
   "outputs": [
    {
     "data": {
      "text/plain": [
       "Power_divergenceResult(statistic=1296.8442867656056, pvalue=1.4860939588891628e-273)"
      ]
     },
     "execution_count": 25,
     "metadata": {},
     "output_type": "execute_result"
    }
   ],
   "source": [
    "import scipy.stats  \n",
    "#calculate chi squared\n",
    "#sum(((observed/expected)^2)/expected)\n",
    "\n",
    "scipy.stats.chisquare(normalised_frequency, f_exp=rest_normalised_frequency)\n",
    "\n"
   ]
  },
  {
   "cell_type": "code",
   "execution_count": null,
   "metadata": {
    "collapsed": false,
    "scrolled": true
   },
   "outputs": [],
   "source": [
    "\"\"\"\n",
    "mean of the spirit words occuring out of the total tokenised words in psychadelic\n",
    "\"\"\"\n",
    "p_total = len(word_count(tokenised))\n",
    "print p_total\n",
    "psychadelic_panda['ratio'] = psychadelic_panda.ix[:,'0':].sum(axis=1)/p_total\n",
    "\n",
    "#print psychadelic_panda"
   ]
  },
  {
   "cell_type": "code",
   "execution_count": null,
   "metadata": {
    "collapsed": false,
    "scrolled": true
   },
   "outputs": [],
   "source": [
    "\"\"\"\n",
    "mean of the spirit words occuring out of the total tokenised words in rest\n",
    "\"\"\"\n",
    "r_total = len(word_count(tokenised))\n",
    "#print r_total\n",
    "rest_panda['ratio'] = rest_panda.ix[:,'0':].sum(axis=1)/r_total\n",
    "#print rest_panda"
   ]
  },
  {
   "cell_type": "code",
   "execution_count": null,
   "metadata": {
    "collapsed": false
   },
   "outputs": [],
   "source": [
    "rest_ratios = rest_panda[rest_panda.columns[1]].get_values()\n",
    "psychadelic_ratios = psychadelic_panda[psychadelic_panda.columns[1]].get_values()\n",
    "\n",
    "#chisquare(observed_values, f_exp=expected_values)\n",
    "chi_square_ratios = scipy.stats.chisquare(psychadelic_ratios, f_exp=rest_ratios)\n",
    "print chi_square_ratios"
   ]
  },
  {
   "cell_type": "code",
   "execution_count": null,
   "metadata": {
    "collapsed": true
   },
   "outputs": [],
   "source": []
  },
  {
   "cell_type": "code",
   "execution_count": null,
   "metadata": {
    "collapsed": true
   },
   "outputs": [],
   "source": []
  }
 ],
 "metadata": {
  "anaconda-cloud": {},
  "kernelspec": {
   "display_name": "Python [Root]",
   "language": "python",
   "name": "Python [Root]"
  },
  "language_info": {
   "codemirror_mode": {
    "name": "ipython",
    "version": 2
   },
   "file_extension": ".py",
   "mimetype": "text/x-python",
   "name": "python",
   "nbconvert_exporter": "python",
   "pygments_lexer": "ipython2",
   "version": "2.7.12"
  }
 },
 "nbformat": 4,
 "nbformat_minor": 0
}
